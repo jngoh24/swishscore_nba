{
 "cells": [
  {
   "cell_type": "markdown",
   "metadata": {
    "application/vnd.databricks.v1+cell": {
     "cellMetadata": {
      "byteLimit": 2048000,
      "rowLimit": 10000
     },
     "inputWidgets": {},
     "nuid": "b1ba2cbe-989c-4cab-a12a-7374e4ea31e2",
     "showTitle": false,
     "tableResultSettingsMap": {},
     "title": ""
    }
   },
   "source": [
    "## **Import Necessary Functions**"
   ]
  },
  {
   "cell_type": "code",
   "execution_count": 0,
   "metadata": {
    "application/vnd.databricks.v1+cell": {
     "cellMetadata": {
      "byteLimit": 2048000,
      "rowLimit": 10000
     },
     "inputWidgets": {},
     "nuid": "368fa511-7282-45a1-bf07-bc8b6b402c6b",
     "showTitle": false,
     "tableResultSettingsMap": {},
     "title": ""
    }
   },
   "outputs": [],
   "source": [
    "from pyspark.sql.functions import col, count, upper, concat, lit, when, split, size, concat_ws, lag, monotonically_increasing_id, element_at, round\n",
    "from pyspark.sql.functions import sum as _sum\n",
    "from pyspark.ml.functions import vector_to_array\n",
    "from pyspark.sql import functions as F\n",
    "from pyspark.sql import Window"
   ]
  },
  {
   "cell_type": "markdown",
   "metadata": {
    "application/vnd.databricks.v1+cell": {
     "cellMetadata": {
      "byteLimit": 2048000,
      "rowLimit": 10000
     },
     "inputWidgets": {},
     "nuid": "13949c7e-bafe-4920-bfc1-3951d021b0f1",
     "showTitle": false,
     "tableResultSettingsMap": {},
     "title": ""
    }
   },
   "source": [
    "## **Load and Clean Data**"
   ]
  },
  {
   "cell_type": "code",
   "execution_count": 0,
   "metadata": {
    "application/vnd.databricks.v1+cell": {
     "cellMetadata": {
      "byteLimit": 2048000,
      "rowLimit": 10000
     },
     "inputWidgets": {},
     "nuid": "9210249e-a670-40a5-ab86-f562a6a4882b",
     "showTitle": false,
     "tableResultSettingsMap": {},
     "title": ""
    }
   },
   "outputs": [],
   "source": [
    "teams = spark.read.csv(\"21.22_teamdata.csv\", header=True, inferSchema=True)\n",
    "\n",
    "teams = teams.withColumn(\"TEAM_ABBRV\", upper(teams[\"TEAM_ABBRV\"]))\n",
    "\n",
    "teams_abbrv = teams.select(\"TEAM\", \"TEAM_ABBRV\")\n",
    "\n",
    "teams_join = teams.select(\"TEAM_ABBRV\", \"oPPG\", \"dEFF\")\n",
    "\n",
    "teams_join = teams_join.withColumnRenamed(\"TEAM_ABBRV\", \"TEAM_DEF\")"
   ]
  },
  {
   "cell_type": "code",
   "execution_count": 0,
   "metadata": {
    "application/vnd.databricks.v1+cell": {
     "cellMetadata": {
      "byteLimit": 2048000,
      "rowLimit": 10000
     },
     "inputWidgets": {},
     "nuid": "e4fe50ef-5ba1-4626-b224-a0b16d7a32e3",
     "showTitle": false,
     "tableResultSettingsMap": {},
     "title": ""
    }
   },
   "outputs": [],
   "source": [
    "players_original = spark.read.csv(\"21.22_playerdata.csv\", header=True, inferSchema=True)\n",
    "\n",
    "players = players_original.withColumn(\"Team\", upper(players_original[\"TEAM\"]))\n",
    "\n",
    "players = players.dropna()\n",
    "\n",
    "players_filtered = players.filter(players[\"GP\"] >= 50)\n",
    "\n",
    "players_new = players.withColumn(\"GP_Filter\", when(players.GP >= 50, \"Yes\").otherwise(\"No\"))\n",
    "\n",
    "players_norm = players_new.withColumn(\"ppg_norm\", col(\"ppg\") / col(\"MPG\"))\n",
    "\n",
    "players_norm = players_norm.withColumn(\"key\", concat(col(\"FULL NAME\"), lit(\"_\"), col(\"Team\")))\n",
    "\n",
    "players_join = players_norm.select(\"FULL NAME\", \"TEAM\", \"POS\", \"GP\", \"MPG\", \"PPG\", \"TS%\", \"eFG%\", \"2P%\", \"3P%\", \"ORTG\", \"GP_Filter\", \"key\")"
   ]
  },
  {
   "cell_type": "code",
   "execution_count": 0,
   "metadata": {
    "application/vnd.databricks.v1+cell": {
     "cellMetadata": {
      "byteLimit": 2048000,
      "rowLimit": 10000
     },
     "inputWidgets": {},
     "nuid": "94d2e889-29d7-4269-8803-10e0d00dab90",
     "showTitle": false,
     "tableResultSettingsMap": {},
     "title": ""
    }
   },
   "outputs": [],
   "source": [
    "shots = spark.read.csv(\"21.22_shotsdata.csv\", header=True, inferSchema=True)\n",
    "\n",
    "# Split the column by space\n",
    "split_col = split(col(\"TEAM_NAME\"), \" \")\n",
    "\n",
    "# Determine where to split based on word count\n",
    "shots_split = shots.withColumn(\n",
    "    \"TEAM_NEW\",\n",
    "    when(size(split_col) == 3, concat_ws(\" \", split_col[0], split_col[1]))  # First two words if three exist\n",
    "    .otherwise(split_col[0])  # First word otherwise\n",
    ").withColumn(\n",
    "    \"TEAM_NEW2\",\n",
    "    when(size(split_col) == 3, split_col[2])  # Last word if three exist\n",
    "    .otherwise(split_col[1])  # Second word otherwise\n",
    ")\n",
    "\n",
    "shots_renamed = shots_split.withColumn(\n",
    "    \"TEAM\",\n",
    "    when((col(\"TEAM_NEW\") == \"Los Angeles\") & (col(\"TEAM_NEW2\") == \"Lakers\"), \"LA Lakers\")\n",
    "    .when((col(\"TEAM_NEW\") == \"Los Angeles\") & (col(\"TEAM_NEW2\") == \"Clippers\"), \"LA Clippers\")\n",
    "    .when((col(\"TEAM_NEW\") == \"Portland Trail\") & (col(\"TEAM_NEW2\") == \"Blazers\"), \"Portland\")\n",
    "    .otherwise(col(\"TEAM_NEW\"))\n",
    ")\n",
    "\n",
    "shots_renamed = shots_renamed.withColumn(\n",
    "    \"AWAY_TEAM\",\n",
    "    when(col(\"AWAY_TEAM\") == \"BKN\", \"BRO\").otherwise(col(\"AWAY_TEAM\"))\n",
    ")\n",
    "shots_with_abbrv = shots_renamed.join(teams_abbrv, on=\"TEAM\", how=\"left\")\n",
    "\n",
    "shot_defend = shots_with_abbrv.withColumn(\n",
    "    \"TEAM_DEF\",\n",
    "    when(col(\"TEAM_ABBRV\") == col(\"HOME_TEAM\"), col(\"AWAY_TEAM\")).otherwise(col(\"HOME_TEAM\"))\n",
    ")\n",
    "\n",
    "shot_cat = shot_defend.withColumn(\"SHOT_CAT\", when(col(\"SHOT_MADE\") == \"true\", 1).otherwise(0))\n",
    "\n",
    "shots_final = shot_cat.withColumn(\"key\", concat(col(\"PLAYER_NAME\"), lit(\"_\"), col(\"TEAM_ABBRV\")))"
   ]
  },
  {
   "cell_type": "code",
   "execution_count": 0,
   "metadata": {
    "application/vnd.databricks.v1+cell": {
     "cellMetadata": {
      "byteLimit": 2048000,
      "rowLimit": 10000
     },
     "inputWidgets": {},
     "nuid": "0e02c719-2cec-4cd6-9aa5-c4c2698ebcb7",
     "showTitle": false,
     "tableResultSettingsMap": {},
     "title": ""
    }
   },
   "outputs": [],
   "source": [
    "master_df1 = shots_final.join(players_join, on=\"key\", how=\"left\")\n",
    "final_master = master_df1.join(teams_join, on=\"TEAM_DEF\", how=\"left\")"
   ]
  },
  {
   "cell_type": "code",
   "execution_count": 0,
   "metadata": {
    "application/vnd.databricks.v1+cell": {
     "cellMetadata": {
      "byteLimit": 2048000,
      "rowLimit": 10000
     },
     "inputWidgets": {},
     "nuid": "6f694586-c218-4d46-aae1-ee3846752451",
     "showTitle": false,
     "tableResultSettingsMap": {},
     "title": ""
    }
   },
   "outputs": [],
   "source": [
    "final_master = final_master.orderBy(\n",
    "    col(\"game_id\").asc(),\n",
    "    col(\"quarter\").asc(),\n",
    "    col(\"mins_left\").desc(),\n",
    "    col(\"secs_left\").desc()\n",
    ")"
   ]
  },
  {
   "cell_type": "code",
   "execution_count": 0,
   "metadata": {
    "application/vnd.databricks.v1+cell": {
     "cellMetadata": {
      "byteLimit": 2048000,
      "rowLimit": 10000
     },
     "inputWidgets": {},
     "nuid": "91192cbb-9e10-47f3-82fc-0f3637a58ece",
     "showTitle": false,
     "tableResultSettingsMap": {},
     "title": ""
    }
   },
   "outputs": [],
   "source": [
    "final_master = final_master.withColumn(\"shot_order\", monotonically_increasing_id())"
   ]
  },
  {
   "cell_type": "code",
   "execution_count": 0,
   "metadata": {
    "application/vnd.databricks.v1+cell": {
     "cellMetadata": {
      "byteLimit": 2048000,
      "rowLimit": 10000
     },
     "inputWidgets": {},
     "nuid": "4295fbe4-359b-4103-ad9d-e9219666cce0",
     "showTitle": false,
     "tableResultSettingsMap": {},
     "title": ""
    }
   },
   "outputs": [],
   "source": [
    "# Define a window partitioned by game_id and player_id, maintaining shot log order\n",
    "window_spec = Window.partitionBy(\"game_id\").orderBy(\n",
    "    col(\"quarter\").asc(), col(\"mins_left\").desc(), col(\"secs_left\").desc()\n",
    ").rowsBetween(Window.unboundedPreceding, Window.currentRow)\n",
    "\n",
    "# Calculate cumulative shots taken per player per game\n",
    "final_master_new = final_master.withColumn(\"shots_taken\", count(\"player_id\").over(window_spec) - 1)\n",
    "\n",
    "# Calculate cumulative shots made per player per game (only when shot_made = true)\n",
    "final_master_new = final_master_new.withColumn(\n",
    "    \"shots_made\",\n",
    "    F.sum(when(col(\"shot_made\") == True, 1).otherwise(0)).over(window_spec) - 1\n",
    ")\n",
    "\n",
    "# Ensure the first shot in each game for a player starts with 0\n",
    "first_shot_window = Window.partitionBy(\"game_id\", \"player_id\").orderBy(\n",
    "    col(\"quarter\").asc(), col(\"mins_left\").desc(), col(\"secs_left\").desc()\n",
    ")\n",
    "\n",
    "final_master_new = final_master_new.withColumn(\n",
    "    \"shots_taken\",\n",
    "    when(count(\"player_id\").over(first_shot_window) == 1, lit(0)).otherwise(col(\"shots_taken\"))\n",
    ")\n",
    "\n",
    "final_master_new = final_master_new.withColumn(\n",
    "    \"shots_made\",\n",
    "    when(count(\"player_id\").over(first_shot_window) == 1, lit(0)).otherwise(col(\"shots_made\"))\n",
    ")\n",
    "\n",
    "final_master_new = final_master_new.orderBy(\n",
    "    col(\"shot_order\").asc())"
   ]
  },
  {
   "cell_type": "code",
   "execution_count": 0,
   "metadata": {
    "application/vnd.databricks.v1+cell": {
     "cellMetadata": {
      "byteLimit": 2048000,
      "rowLimit": 10000
     },
     "inputWidgets": {},
     "nuid": "d351eff3-b752-4bfa-8857-1f4df009f805",
     "showTitle": false,
     "tableResultSettingsMap": {},
     "title": ""
    }
   },
   "outputs": [],
   "source": [
    "final_master_filter = final_master_new.filter(final_master.GP_Filter == \"Yes\")"
   ]
  },
  {
   "cell_type": "code",
   "execution_count": 0,
   "metadata": {
    "application/vnd.databricks.v1+cell": {
     "cellMetadata": {
      "byteLimit": 2048000,
      "rowLimit": 10000
     },
     "inputWidgets": {},
     "nuid": "fa34d2a9-ecf2-4fa2-bde8-855ac3accb75",
     "showTitle": false,
     "tableResultSettingsMap": {},
     "title": ""
    }
   },
   "outputs": [
    {
     "output_type": "execute_result",
     "data": {
      "text/plain": [
       "216722"
      ]
     },
     "execution_count": 140,
     "metadata": {},
     "output_type": "execute_result"
    }
   ],
   "source": [
    "final_master.count()"
   ]
  },
  {
   "cell_type": "code",
   "execution_count": 0,
   "metadata": {
    "application/vnd.databricks.v1+cell": {
     "cellMetadata": {
      "byteLimit": 2048000,
      "rowLimit": 10000
     },
     "inputWidgets": {},
     "nuid": "1d0790e8-7fa5-4e5f-9bd0-9eba87ac8bd6",
     "showTitle": false,
     "tableResultSettingsMap": {},
     "title": ""
    }
   },
   "outputs": [
    {
     "output_type": "execute_result",
     "data": {
      "text/plain": [
       "161557"
      ]
     },
     "execution_count": 141,
     "metadata": {},
     "output_type": "execute_result"
    }
   ],
   "source": [
    "final_master_filter.count()"
   ]
  },
  {
   "cell_type": "code",
   "execution_count": 0,
   "metadata": {
    "application/vnd.databricks.v1+cell": {
     "cellMetadata": {
      "byteLimit": 2048000,
      "rowLimit": 10000
     },
     "inputWidgets": {},
     "nuid": "7d7cef1b-81a3-45c5-914d-c2fdaa35ded6",
     "showTitle": false,
     "tableResultSettingsMap": {},
     "title": ""
    }
   },
   "outputs": [],
   "source": [
    "final_master_filter_sorted = final_master_filter.orderBy(\n",
    "    col(\"game_id\").asc(),\n",
    "    col(\"quarter\").asc(),\n",
    "    col(\"mins_left\").desc(),\n",
    "    col(\"secs_left\").desc()\n",
    ")"
   ]
  },
  {
   "cell_type": "markdown",
   "metadata": {
    "application/vnd.databricks.v1+cell": {
     "cellMetadata": {},
     "inputWidgets": {},
     "nuid": "206fa3b1-5bd2-45b0-9ec4-5f6e4a777022",
     "showTitle": false,
     "tableResultSettingsMap": {},
     "title": ""
    }
   },
   "source": [
    "## **Model Building**"
   ]
  },
  {
   "cell_type": "code",
   "execution_count": 0,
   "metadata": {
    "application/vnd.databricks.v1+cell": {
     "cellMetadata": {
      "byteLimit": 2048000,
      "rowLimit": 10000
     },
     "inputWidgets": {},
     "nuid": "f03d7b17-6b5c-48de-be74-b2dfe791a396",
     "showTitle": false,
     "tableResultSettingsMap": {},
     "title": ""
    }
   },
   "outputs": [],
   "source": [
    "master_model = final_master_filter.select(\"FULL NAME\", \"GAME_ID\", \"TEAM_ABBRV\", \"POSITION\", \"ACTION_TYPE\", \"SHOT_TYPE\", \"BASIC_ZONE\", \"ZONE_NAME\", \"ZONE_RANGE\", \"TS%\", \"eFG%\", \"2P%\", \"ORTG\", \"SHOT_CAT\")"
   ]
  },
  {
   "cell_type": "code",
   "execution_count": 0,
   "metadata": {
    "application/vnd.databricks.v1+cell": {
     "cellMetadata": {
      "byteLimit": 2048000,
      "rowLimit": 10000
     },
     "inputWidgets": {},
     "nuid": "ec53db88-f0df-4648-8141-0f25c624e684",
     "showTitle": false,
     "tableResultSettingsMap": {},
     "title": ""
    }
   },
   "outputs": [],
   "source": [
    "from pyspark.ml.feature import StringIndexer, OneHotEncoder, VectorAssembler\n",
    "from pyspark.ml.classification import LogisticRegression\n",
    "from pyspark.ml import Pipeline\n",
    "from pyspark.ml.evaluation import BinaryClassificationEvaluator, MulticlassClassificationEvaluator\n",
    "from pyspark.mllib.evaluation import MulticlassMetrics"
   ]
  },
  {
   "cell_type": "code",
   "execution_count": 0,
   "metadata": {
    "application/vnd.databricks.v1+cell": {
     "cellMetadata": {
      "byteLimit": 2048000,
      "rowLimit": 10000
     },
     "inputWidgets": {},
     "nuid": "14b757a8-79e5-470f-9374-610d3a01d1d1",
     "showTitle": false,
     "tableResultSettingsMap": {},
     "title": ""
    }
   },
   "outputs": [],
   "source": [
    "categorical_cols = [\"POSITION\", \"ACTION_TYPE\", \"SHOT_TYPE\", \"BASIC_ZONE\", \"ZONE_NAME\", \"ZONE_RANGE\"]\n",
    "numerical_cols = [\"TS%\", \"eFG%\", \"2P%\", \"ORTG\"]\n",
    "\n",
    "# Indexing and One-Hot Encoding for categorical variables\n",
    "indexers = [StringIndexer(inputCol=col, outputCol=col+\"_indexed\") for col in categorical_cols]\n",
    "encoders = [OneHotEncoder(inputCol=col+\"_indexed\", outputCol=col+\"_encoded\") for col in categorical_cols]\n",
    "\n",
    "# Assembling features\n",
    "assembler = VectorAssembler(\n",
    "    inputCols=numerical_cols + [col+\"_encoded\" for col in categorical_cols],\n",
    "    outputCol=\"features\"\n",
    ")"
   ]
  },
  {
   "cell_type": "code",
   "execution_count": 0,
   "metadata": {
    "application/vnd.databricks.v1+cell": {
     "cellMetadata": {
      "byteLimit": 2048000,
      "rowLimit": 10000
     },
     "inputWidgets": {},
     "nuid": "ab9ffb34-ced8-4d70-95f6-c5c683d74d5e",
     "showTitle": false,
     "tableResultSettingsMap": {},
     "title": ""
    }
   },
   "outputs": [],
   "source": [
    "train_data = master_model.filter(col(\"game_id\") <= 22100861)\n",
    "test_data = master_model.filter(col(\"game_id\") > 22100861)"
   ]
  },
  {
   "cell_type": "code",
   "execution_count": 0,
   "metadata": {
    "application/vnd.databricks.v1+cell": {
     "cellMetadata": {
      "byteLimit": 2048000,
      "rowLimit": 10000
     },
     "collapsed": true,
     "inputWidgets": {},
     "nuid": "7d3ae5f6-789e-4ae8-aef8-1570aeddc146",
     "showTitle": false,
     "tableResultSettingsMap": {},
     "title": ""
    }
   },
   "outputs": [
    {
     "output_type": "display_data",
     "data": {
      "application/vnd.jupyter.widget-view+json": {
       "model_id": "fd2a3f49438546a79a97c63d19f951be",
       "version_major": 2,
       "version_minor": 0
      },
      "text/plain": [
       "Downloading artifacts:   0%|          | 0/140 [00:00<?, ?it/s]"
      ]
     },
     "metadata": {},
     "output_type": "display_data"
    },
    {
     "output_type": "display_data",
     "data": {
      "application/vnd.jupyter.widget-view+json": {
       "model_id": "11c2d47e29c84a43a7f2def387b9b495",
       "version_major": 2,
       "version_minor": 0
      },
      "text/plain": [
       "Uploading artifacts:   0%|          | 0/4 [00:00<?, ?it/s]"
      ]
     },
     "metadata": {},
     "output_type": "display_data"
    }
   ],
   "source": [
    "lr = LogisticRegression(featuresCol=\"features\", labelCol=\"SHOT_CAT\")\n",
    "\n",
    "pipeline = Pipeline(stages=indexers + encoders + [assembler, lr])\n",
    "\n",
    "model = pipeline.fit(train_data)"
   ]
  },
  {
   "cell_type": "code",
   "execution_count": 0,
   "metadata": {
    "application/vnd.databricks.v1+cell": {
     "cellMetadata": {
      "byteLimit": 2048000,
      "rowLimit": 10000
     },
     "collapsed": true,
     "inputWidgets": {},
     "nuid": "164505e5-76bc-4a5d-85a8-1bd3ebf1fbb6",
     "showTitle": false,
     "tableResultSettingsMap": {},
     "title": ""
    }
   },
   "outputs": [],
   "source": [
    "predictions = model.transform(test_data)\n",
    "\n",
    "# predictions.select(\"SHOT_CAT\", \"probability\", \"prediction\").show()"
   ]
  },
  {
   "cell_type": "markdown",
   "metadata": {
    "application/vnd.databricks.v1+cell": {
     "cellMetadata": {},
     "inputWidgets": {},
     "nuid": "0843d676-3dc3-4669-bd29-6bc4dac94871",
     "showTitle": false,
     "tableResultSettingsMap": {},
     "title": ""
    }
   },
   "source": [
    "## **Create xP Statistic**"
   ]
  },
  {
   "cell_type": "code",
   "execution_count": 0,
   "metadata": {
    "application/vnd.databricks.v1+cell": {
     "cellMetadata": {
      "byteLimit": 2048000,
      "rowLimit": 10000
     },
     "inputWidgets": {},
     "nuid": "7fd0e896-9ae8-4129-b774-6fbc5c12b5d3",
     "showTitle": false,
     "tableResultSettingsMap": {},
     "title": ""
    }
   },
   "outputs": [],
   "source": [
    "predictions_new = predictions.select(\"FULL NAME\", \"GAME_ID\", \"TEAM_ABBRV\", \"POSITION\", \"SHOT_TYPE\", \"SHOT_CAT\", \"probability\", \"prediction\")"
   ]
  },
  {
   "cell_type": "code",
   "execution_count": 0,
   "metadata": {
    "application/vnd.databricks.v1+cell": {
     "cellMetadata": {
      "byteLimit": 2048000,
      "rowLimit": 10000
     },
     "inputWidgets": {},
     "nuid": "f92c0ecc-c1c6-48e4-bb83-f642898274f7",
     "showTitle": false,
     "tableResultSettingsMap": {},
     "title": ""
    }
   },
   "outputs": [],
   "source": [
    "df_with_prob_made = predictions_new.withColumn(\"prob_made\", vector_to_array(col(\"probability\"))[1])\n",
    "predictions_clean = df_with_prob_made.select(\"FULL NAME\", \"GAME_ID\", \"TEAM_ABBRV\", \"SHOT_TYPE\", \"SHOT_CAT\", \"prob_made\", \"prediction\")"
   ]
  },
  {
   "cell_type": "code",
   "execution_count": 0,
   "metadata": {
    "application/vnd.databricks.v1+cell": {
     "cellMetadata": {
      "byteLimit": 2048000,
      "rowLimit": 10000
     },
     "inputWidgets": {},
     "nuid": "8a095e69-83db-4825-a469-67a841f9cfbe",
     "showTitle": false,
     "tableResultSettingsMap": {},
     "title": ""
    }
   },
   "outputs": [],
   "source": [
    "df_withp_flag = predictions_clean.withColumn(\"shot_pt\", when(col(\"SHOT_TYPE\") == \"2PT Field Goal\", 2).otherwise(3))"
   ]
  },
  {
   "cell_type": "code",
   "execution_count": 0,
   "metadata": {
    "application/vnd.databricks.v1+cell": {
     "cellMetadata": {
      "byteLimit": 2048000,
      "rowLimit": 10000
     },
     "inputWidgets": {},
     "nuid": "65b4af76-d2c2-4a69-8e5c-f482dba053a6",
     "showTitle": false,
     "tableResultSettingsMap": {},
     "title": ""
    }
   },
   "outputs": [],
   "source": [
    "df_pts = df_withp_flag.withColumn(\"pts\", col(\"shot_pt\") * col(\"shot_cat\"))\n",
    "df_xp = df_pts.withColumn(\"xP\", col(\"shot_pt\") * col(\"prob_made\"))"
   ]
  },
  {
   "cell_type": "code",
   "execution_count": 0,
   "metadata": {
    "application/vnd.databricks.v1+cell": {
     "cellMetadata": {
      "byteLimit": 2048000,
      "rowLimit": 10000
     },
     "inputWidgets": {},
     "nuid": "d51485a2-0793-4dac-b96d-3f5ff2414596",
     "showTitle": false,
     "tableResultSettingsMap": {},
     "title": ""
    }
   },
   "outputs": [],
   "source": [
    "master_xp = df_xp.select(\"FULL NAME\", \"GAME_ID\", \"TEAM_ABBRV\", \"SHOT_CAT\", \"prediction\", \"shot_pt\", \"prob_made\", \"xP\", \"pts\")"
   ]
  },
  {
   "cell_type": "code",
   "execution_count": 0,
   "metadata": {
    "application/vnd.databricks.v1+cell": {
     "cellMetadata": {
      "byteLimit": 2048000,
      "rowLimit": 10000
     },
     "inputWidgets": {},
     "nuid": "d42389e3-2f12-492e-a74f-c48b11f96177",
     "showTitle": false,
     "tableResultSettingsMap": {},
     "title": ""
    }
   },
   "outputs": [],
   "source": [
    "# Group and aggregate\n",
    "team_game_summary = master_xp.groupBy(\"GAME_ID\", \"TEAM_ABBRV\") \\\n",
    "    .agg(\n",
    "        _sum(\"xP\").alias(\"total_xP\"),\n",
    "        _sum(\"pts\").alias(\"total_pts\")\n",
    "    ) \\\n",
    "    .orderBy(\"GAME_ID\", \"TEAM_ABBRV\")"
   ]
  },
  {
   "cell_type": "code",
   "execution_count": 0,
   "metadata": {
    "application/vnd.databricks.v1+cell": {
     "cellMetadata": {
      "byteLimit": 2048000,
      "rowLimit": 10000
     },
     "inputWidgets": {},
     "nuid": "f7c435fa-5954-47ec-85ef-e8d06251c040",
     "showTitle": false,
     "tableResultSettingsMap": {},
     "title": ""
    }
   },
   "outputs": [],
   "source": [
    "game_summary = team_game_summary.withColumn(\"xP_performance\", when(col(\"total_pts\") > col(\"total_xP\"), \"yes\").otherwise(\"no\"))\n",
    "\n",
    "# display(game_summary.limit(10))"
   ]
  },
  {
   "cell_type": "code",
   "execution_count": 0,
   "metadata": {
    "application/vnd.databricks.v1+cell": {
     "cellMetadata": {
      "byteLimit": 2048000,
      "rowLimit": 10000
     },
     "inputWidgets": {},
     "nuid": "9e5e6c14-d476-4d03-a51c-a5ece2710e37",
     "showTitle": false,
     "tableResultSettingsMap": {},
     "title": ""
    }
   },
   "outputs": [],
   "source": [
    "performance_summary = game_summary.groupBy(\"TEAM_ABBRV\").agg(\n",
    "    sum(when(col(\"xP_performance\") == \"yes\", 1).otherwise(0)).alias(\"outperform\"),\n",
    "    sum(when(col(\"xP_performance\") == \"no\", 1).otherwise(0)).alias(\"underperform\")\n",
    ")"
   ]
  },
  {
   "cell_type": "code",
   "execution_count": 0,
   "metadata": {
    "application/vnd.databricks.v1+cell": {
     "cellMetadata": {
      "byteLimit": 2048000,
      "rowLimit": 10000
     },
     "inputWidgets": {},
     "nuid": "fc8c4861-8d96-4ea6-81be-81239abfcab3",
     "showTitle": false,
     "tableResultSettingsMap": {},
     "title": ""
    }
   },
   "outputs": [],
   "source": [
    "performance_summary_pct = performance_summary.withColumn(\"total_games\", col(\"outperform\") + col(\"underperform\"))\n",
    "performance_summary_pct = performance_summary_pct.withColumn(\"outperform_pct1\", round(col(\"outperform\") / col(\"total_games\")*100))\n",
    "performance_summary_pct = performance_summary_pct.withColumn(\"underperform_pct1\", round(col(\"underperform\") / col(\"total_games\")*100))"
   ]
  },
  {
   "cell_type": "code",
   "execution_count": 0,
   "metadata": {
    "application/vnd.databricks.v1+cell": {
     "cellMetadata": {
      "byteLimit": 2048000,
      "rowLimit": 10000
     },
     "inputWidgets": {},
     "nuid": "c8c7e034-5d23-49d7-a769-6de28d2a9a0b",
     "showTitle": false,
     "tableResultSettingsMap": {},
     "title": ""
    }
   },
   "outputs": [],
   "source": [
    "performance_summary_pct_clean = performance_summary_pct.withColumn(\"outperform_pct\", concat(col(\"outperform_pct1\").cast(\"string\"), lit(\"%\")))\n",
    "performance_summary_pct_clean = performance_summary_pct_clean.withColumn(\"underperform_pct\", concat(col(\"underperform_pct1\").cast(\"string\"), lit(\"%\")))"
   ]
  },
  {
   "cell_type": "code",
   "execution_count": 0,
   "metadata": {
    "application/vnd.databricks.v1+cell": {
     "cellMetadata": {
      "byteLimit": 2048000,
      "rowLimit": 10000
     },
     "inputWidgets": {},
     "nuid": "34b865c5-ae8c-4e3c-a0f7-11785c665937",
     "showTitle": false,
     "tableResultSettingsMap": {},
     "title": ""
    }
   },
   "outputs": [],
   "source": [
    "xp_summary = performance_summary_pct_clean.drop(\"total_games\", \"underperform_pct1\", \"outperform_pct1\")"
   ]
  },
  {
   "cell_type": "markdown",
   "metadata": {
    "application/vnd.databricks.v1+cell": {
     "cellMetadata": {},
     "inputWidgets": {},
     "nuid": "4f94544a-49c8-460d-8136-61c1633b5961",
     "showTitle": false,
     "tableResultSettingsMap": {},
     "title": ""
    }
   },
   "source": [
    "## **Top 10 Teams - *Outperform* xP**"
   ]
  },
  {
   "cell_type": "code",
   "execution_count": 0,
   "metadata": {
    "application/vnd.databricks.v1+cell": {
     "cellMetadata": {
      "byteLimit": 2048000,
      "rowLimit": 10000
     },
     "inputWidgets": {},
     "nuid": "803dbdcd-2fd9-4ea5-b985-52f32f9e79f9",
     "showTitle": false,
     "tableResultSettingsMap": {},
     "title": ""
    }
   },
   "outputs": [
    {
     "output_type": "display_data",
     "data": {
      "text/html": [
       "<style scoped>\n",
       "  .table-result-container {\n",
       "    max-height: 300px;\n",
       "    overflow: auto;\n",
       "  }\n",
       "  table, th, td {\n",
       "    border: 1px solid black;\n",
       "    border-collapse: collapse;\n",
       "  }\n",
       "  th, td {\n",
       "    padding: 5px;\n",
       "  }\n",
       "  th {\n",
       "    text-align: left;\n",
       "  }\n",
       "</style><div class='table-result-container'><table class='table-result'><thead style='background-color: white'><tr><th>TEAM_ABBRV</th><th>outperform</th><th>underperform</th><th>outperform_pct</th><th>underperform_pct</th></tr></thead><tbody><tr><td>OKC</td><td>16</td><td>5</td><td>76.0%</td><td>24.0%</td></tr><tr><td>WAS</td><td>19</td><td>6</td><td>76.0%</td><td>24.0%</td></tr><tr><td>PHO</td><td>19</td><td>7</td><td>73.0%</td><td>27.0%</td></tr><tr><td>DAL</td><td>18</td><td>7</td><td>72.0%</td><td>28.0%</td></tr><tr><td>BOS</td><td>17</td><td>7</td><td>71.0%</td><td>29.0%</td></tr></tbody></table></div>"
      ]
     },
     "metadata": {
      "application/vnd.databricks.v1+output": {
       "addedWidgets": {},
       "aggData": [],
       "aggError": "",
       "aggOverflow": false,
       "aggSchema": [],
       "aggSeriesLimitReached": false,
       "aggType": "",
       "arguments": {},
       "columnCustomDisplayInfos": {},
       "data": [
        [
         "OKC",
         16,
         5,
         "76.0%",
         "24.0%"
        ],
        [
         "WAS",
         19,
         6,
         "76.0%",
         "24.0%"
        ],
        [
         "PHO",
         19,
         7,
         "73.0%",
         "27.0%"
        ],
        [
         "DAL",
         18,
         7,
         "72.0%",
         "28.0%"
        ],
        [
         "BOS",
         17,
         7,
         "71.0%",
         "29.0%"
        ]
       ],
       "datasetInfos": [],
       "dbfsResultPath": null,
       "isJsonSchema": true,
       "metadata": {},
       "overflow": false,
       "plotOptions": {
        "customPlotOptions": {},
        "displayType": "table",
        "pivotAggregation": null,
        "pivotColumns": null,
        "xColumns": null,
        "yColumns": null
       },
       "removedWidgets": [],
       "schema": [
        {
         "metadata": "{}",
         "name": "TEAM_ABBRV",
         "type": "\"string\""
        },
        {
         "metadata": "{}",
         "name": "outperform",
         "type": "\"long\""
        },
        {
         "metadata": "{}",
         "name": "underperform",
         "type": "\"long\""
        },
        {
         "metadata": "{}",
         "name": "outperform_pct",
         "type": "\"string\""
        },
        {
         "metadata": "{}",
         "name": "underperform_pct",
         "type": "\"string\""
        }
       ],
       "type": "table"
      }
     },
     "output_type": "display_data"
    }
   ],
   "source": [
    "display(xp_summary.orderBy(\"outperform_pct\", ascending=False).limit(5))"
   ]
  },
  {
   "cell_type": "markdown",
   "metadata": {
    "application/vnd.databricks.v1+cell": {
     "cellMetadata": {},
     "inputWidgets": {},
     "nuid": "27f3b7f3-5ad3-4891-bdff-56396d8f6410",
     "showTitle": false,
     "tableResultSettingsMap": {},
     "title": ""
    }
   },
   "source": [
    "## **Top 10 Teams - *Underperform* xP**"
   ]
  },
  {
   "cell_type": "code",
   "execution_count": 0,
   "metadata": {
    "application/vnd.databricks.v1+cell": {
     "cellMetadata": {
      "byteLimit": 2048000,
      "rowLimit": 10000
     },
     "inputWidgets": {},
     "nuid": "37a03b5f-d261-4549-a0e3-d6ee94165640",
     "showTitle": false,
     "tableResultSettingsMap": {},
     "title": ""
    }
   },
   "outputs": [
    {
     "output_type": "display_data",
     "data": {
      "text/html": [
       "<style scoped>\n",
       "  .table-result-container {\n",
       "    max-height: 300px;\n",
       "    overflow: auto;\n",
       "  }\n",
       "  table, th, td {\n",
       "    border: 1px solid black;\n",
       "    border-collapse: collapse;\n",
       "  }\n",
       "  th, td {\n",
       "    padding: 5px;\n",
       "  }\n",
       "  th {\n",
       "    text-align: left;\n",
       "  }\n",
       "</style><div class='table-result-container'><table class='table-result'><thead style='background-color: white'><tr><th>TEAM_ABBRV</th><th>outperform</th><th>underperform</th><th>outperform_pct</th><th>underperform_pct</th></tr></thead><tbody><tr><td>ORL</td><td>9</td><td>14</td><td>39.0%</td><td>61.0%</td></tr><tr><td>TOR</td><td>10</td><td>15</td><td>40.0%</td><td>60.0%</td></tr><tr><td>CHI</td><td>10</td><td>13</td><td>43.0%</td><td>57.0%</td></tr><tr><td>NYK</td><td>11</td><td>13</td><td>46.0%</td><td>54.0%</td></tr><tr><td>DET</td><td>12</td><td>13</td><td>48.0%</td><td>52.0%</td></tr></tbody></table></div>"
      ]
     },
     "metadata": {
      "application/vnd.databricks.v1+output": {
       "addedWidgets": {},
       "aggData": [],
       "aggError": "",
       "aggOverflow": false,
       "aggSchema": [],
       "aggSeriesLimitReached": false,
       "aggType": "",
       "arguments": {},
       "columnCustomDisplayInfos": {},
       "data": [
        [
         "ORL",
         9,
         14,
         "39.0%",
         "61.0%"
        ],
        [
         "TOR",
         10,
         15,
         "40.0%",
         "60.0%"
        ],
        [
         "CHI",
         10,
         13,
         "43.0%",
         "57.0%"
        ],
        [
         "NYK",
         11,
         13,
         "46.0%",
         "54.0%"
        ],
        [
         "DET",
         12,
         13,
         "48.0%",
         "52.0%"
        ]
       ],
       "datasetInfos": [],
       "dbfsResultPath": null,
       "isJsonSchema": true,
       "metadata": {},
       "overflow": false,
       "plotOptions": {
        "customPlotOptions": {},
        "displayType": "table",
        "pivotAggregation": null,
        "pivotColumns": null,
        "xColumns": null,
        "yColumns": null
       },
       "removedWidgets": [],
       "schema": [
        {
         "metadata": "{}",
         "name": "TEAM_ABBRV",
         "type": "\"string\""
        },
        {
         "metadata": "{}",
         "name": "outperform",
         "type": "\"long\""
        },
        {
         "metadata": "{}",
         "name": "underperform",
         "type": "\"long\""
        },
        {
         "metadata": "{}",
         "name": "outperform_pct",
         "type": "\"string\""
        },
        {
         "metadata": "{}",
         "name": "underperform_pct",
         "type": "\"string\""
        }
       ],
       "type": "table"
      }
     },
     "output_type": "display_data"
    }
   ],
   "source": [
    "display(xp_summary.orderBy(\"underperform_pct\", ascending=False).limit(5))"
   ]
  },
  {
   "cell_type": "markdown",
   "metadata": {
    "application/vnd.databricks.v1+cell": {
     "cellMetadata": {},
     "inputWidgets": {},
     "nuid": "4ec9226a-5b78-415c-a654-e67f7fd02fee",
     "showTitle": false,
     "tableResultSettingsMap": {},
     "title": ""
    }
   },
   "source": [
    "## **Model Evaluation**"
   ]
  },
  {
   "cell_type": "code",
   "execution_count": 0,
   "metadata": {
    "application/vnd.databricks.v1+cell": {
     "cellMetadata": {
      "byteLimit": 2048000,
      "rowLimit": 10000
     },
     "inputWidgets": {},
     "nuid": "b6a990e5-d487-4d87-8384-d07f10c677f9",
     "showTitle": false,
     "tableResultSettingsMap": {},
     "title": ""
    }
   },
   "outputs": [],
   "source": [
    "# # Accuracy Evaluator\n",
    "# accuracy_evaluator = MulticlassClassificationEvaluator(\n",
    "#     labelCol=\"SHOT_CAT\", predictionCol=\"prediction\", metricName=\"accuracy\"\n",
    "# )\n",
    "\n",
    "# # Calculate accuracy\n",
    "# accuracy = accuracy_evaluator.evaluate(predictions)\n",
    "# print(f\"Accuracy: {accuracy:.2f}\")"
   ]
  },
  {
   "cell_type": "code",
   "execution_count": 0,
   "metadata": {
    "application/vnd.databricks.v1+cell": {
     "cellMetadata": {
      "byteLimit": 2048000,
      "rowLimit": 10000
     },
     "inputWidgets": {},
     "nuid": "cbf8370c-b270-4aae-9871-c2c48398337a",
     "showTitle": false,
     "tableResultSettingsMap": {},
     "title": ""
    }
   },
   "outputs": [],
   "source": [
    "# prediction_and_labels = predictions.select(\"prediction\", \"SHOT_CAT\").rdd.map(lambda x: (float(x[0]), float(x[1])))\n",
    "\n",
    "# # Compute confusion matrix\n",
    "# metrics = MulticlassMetrics(prediction_and_labels)\n",
    "# confusion_matrix = metrics.confusionMatrix().toArray()\n",
    "\n",
    "# # Display confusion matrix\n",
    "# print(\"Confusion Matrix:\")\n",
    "# print(confusion_matrix)"
   ]
  },
  {
   "cell_type": "code",
   "execution_count": 0,
   "metadata": {
    "application/vnd.databricks.v1+cell": {
     "cellMetadata": {
      "byteLimit": 2048000,
      "rowLimit": 10000
     },
     "inputWidgets": {},
     "nuid": "ac0ac368-25cb-4ef3-bbec-20ce3431d813",
     "showTitle": false,
     "tableResultSettingsMap": {},
     "title": ""
    }
   },
   "outputs": [],
   "source": [
    "# auc_evaluator = BinaryClassificationEvaluator(\n",
    "#     labelCol=\"SHOT_CAT\", rawPredictionCol=\"rawPrediction\", metricName=\"areaUnderROC\"\n",
    "# )\n",
    "\n",
    "# # Calculate AUC\n",
    "# auc = auc_evaluator.evaluate(predictions)\n",
    "# print(f\"AUC: {auc:.2f}\")"
   ]
  },
  {
   "cell_type": "code",
   "execution_count": 0,
   "metadata": {
    "application/vnd.databricks.v1+cell": {
     "cellMetadata": {
      "byteLimit": 2048000,
      "rowLimit": 10000
     },
     "inputWidgets": {},
     "nuid": "885fa730-55a4-4052-95d8-a39bee4c81f8",
     "showTitle": false,
     "tableResultSettingsMap": {},
     "title": ""
    }
   },
   "outputs": [],
   "source": [
    "# # Extract the Logistic Regression model\n",
    "# lr_model = model.stages[-1]\n",
    "\n",
    "# # Get coefficients and intercept\n",
    "# coefficients = lr_model.coefficients\n",
    "# intercept = lr_model.intercept\n",
    "\n",
    "# # List of feature names\n",
    "# feature_names = numerical_cols + [f\"{col}_encoded\" for col in categorical_cols]\n",
    "\n",
    "# # Display Feature Importance\n",
    "# print(f\"Intercept: {intercept}\")\n",
    "# print(\"Feature Importance (Coefficients):\")\n",
    "# for name, coef in zip(feature_names, coefficients):\n",
    "#     print(f\"{name}: {coef}\")"
   ]
  }
 ],
 "metadata": {
  "application/vnd.databricks.v1+notebook": {
   "computePreferences": null,
   "dashboards": [],
   "environmentMetadata": {
    "base_environment": "",
    "environment_version": "2"
   },
   "inputWidgetPreferences": null,
   "language": "python",
   "notebookMetadata": {
    "pythonIndentUnit": 4
   },
   "notebookName": "swish_export",
   "widgets": {}
  },
  "language_info": {
   "name": "python"
  }
 },
 "nbformat": 4,
 "nbformat_minor": 0
}