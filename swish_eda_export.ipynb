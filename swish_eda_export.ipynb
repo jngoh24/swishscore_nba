{
 "cells": [
  {
   "cell_type": "markdown",
   "metadata": {
    "application/vnd.databricks.v1+cell": {
     "cellMetadata": {
      "byteLimit": 2048000,
      "rowLimit": 10000
     },
     "inputWidgets": {},
     "nuid": "b1ba2cbe-989c-4cab-a12a-7374e4ea31e2",
     "showTitle": false,
     "tableResultSettingsMap": {},
     "title": ""
    }
   },
   "source": [
    "## **Import Necessary Functions**"
   ]
  },
  {
   "cell_type": "code",
   "execution_count": 0,
   "metadata": {
    "application/vnd.databricks.v1+cell": {
     "cellMetadata": {
      "byteLimit": 2048000,
      "rowLimit": 10000
     },
     "inputWidgets": {},
     "nuid": "368fa511-7282-45a1-bf07-bc8b6b402c6b",
     "showTitle": false,
     "tableResultSettingsMap": {},
     "title": ""
    }
   },
   "outputs": [],
   "source": [
    "from pyspark.sql.functions import col, count, upper, concat, lit, when, split, size, concat_ws, lag, monotonically_increasing_id\n",
    "from pyspark.sql import functions as F\n",
    "from pyspark.sql import Window"
   ]
  },
  {
   "cell_type": "markdown",
   "metadata": {
    "application/vnd.databricks.v1+cell": {
     "cellMetadata": {
      "byteLimit": 2048000,
      "rowLimit": 10000
     },
     "inputWidgets": {},
     "nuid": "13949c7e-bafe-4920-bfc1-3951d021b0f1",
     "showTitle": false,
     "tableResultSettingsMap": {},
     "title": ""
    }
   },
   "source": [
    "## **Load and Clean Data**"
   ]
  },
  {
   "cell_type": "code",
   "execution_count": 0,
   "metadata": {
    "application/vnd.databricks.v1+cell": {
     "cellMetadata": {
      "byteLimit": 2048000,
      "rowLimit": 10000
     },
     "inputWidgets": {},
     "nuid": "9210249e-a670-40a5-ab86-f562a6a4882b",
     "showTitle": false,
     "tableResultSettingsMap": {},
     "title": ""
    }
   },
   "outputs": [],
   "source": [
    "teams = spark.read.csv(\"21.22_teamdata.csv\", header=True, inferSchema=True)\n",
    "\n",
    "teams = teams.withColumn(\"TEAM_ABBRV\", upper(teams[\"TEAM_ABBRV\"]))\n",
    "\n",
    "teams_abbrv = teams.select(\"TEAM\", \"TEAM_ABBRV\")\n",
    "\n",
    "teams_join = teams.select(\"TEAM_ABBRV\", \"oPPG\", \"dEFF\")\n",
    "\n",
    "teams_join = teams_join.withColumnRenamed(\"TEAM_ABBRV\", \"TEAM_DEF\")"
   ]
  },
  {
   "cell_type": "code",
   "execution_count": 0,
   "metadata": {
    "application/vnd.databricks.v1+cell": {
     "cellMetadata": {
      "byteLimit": 2048000,
      "rowLimit": 10000
     },
     "inputWidgets": {},
     "nuid": "e4fe50ef-5ba1-4626-b224-a0b16d7a32e3",
     "showTitle": false,
     "tableResultSettingsMap": {},
     "title": ""
    }
   },
   "outputs": [],
   "source": [
    "players_original = spark.read.csv(\"21.22_playerdata.csv\", header=True, inferSchema=True)\n",
    "\n",
    "players = players_original.withColumn(\"Team\", upper(players_original[\"TEAM\"]))\n",
    "\n",
    "players = players.dropna()\n",
    "\n",
    "players_filtered = players.filter(players[\"GP\"] >= 50)\n",
    "\n",
    "players_new = players.withColumn(\"GP_Filter\", when(players.GP >= 50, \"Yes\").otherwise(\"No\"))\n",
    "\n",
    "players_norm = players_new.withColumn(\"ppg_norm\", col(\"ppg\") / col(\"MPG\"))\n",
    "\n",
    "players_norm = players_norm.withColumn(\"key\", concat(col(\"FULL NAME\"), lit(\"_\"), col(\"Team\")))\n",
    "\n",
    "players_join = players_norm.select(\"FULL NAME\", \"TEAM\", \"POS\", \"GP\", \"MPG\", \"PPG\", \"TS%\", \"eFG%\", \"2P%\", \"3P%\", \"ORTG\", \"GP_Filter\", \"key\")"
   ]
  },
  {
   "cell_type": "code",
   "execution_count": 0,
   "metadata": {
    "application/vnd.databricks.v1+cell": {
     "cellMetadata": {
      "byteLimit": 2048000,
      "rowLimit": 10000
     },
     "inputWidgets": {},
     "nuid": "94d2e889-29d7-4269-8803-10e0d00dab90",
     "showTitle": false,
     "tableResultSettingsMap": {},
     "title": ""
    }
   },
   "outputs": [],
   "source": [
    "shots = spark.read.csv(\"21.22_shotsdata.csv\", header=True, inferSchema=True)\n",
    "\n",
    "# Split the column by space\n",
    "split_col = split(col(\"TEAM_NAME\"), \" \")\n",
    "\n",
    "# Determine where to split based on word count\n",
    "shots_split = shots.withColumn(\n",
    "    \"TEAM_NEW\",\n",
    "    when(size(split_col) == 3, concat_ws(\" \", split_col[0], split_col[1]))  # First two words if three exist\n",
    "    .otherwise(split_col[0])  # First word otherwise\n",
    ").withColumn(\n",
    "    \"TEAM_NEW2\",\n",
    "    when(size(split_col) == 3, split_col[2])  # Last word if three exist\n",
    "    .otherwise(split_col[1])  # Second word otherwise\n",
    ")\n",
    "\n",
    "shots_renamed = shots_split.withColumn(\n",
    "    \"TEAM\",\n",
    "    when((col(\"TEAM_NEW\") == \"Los Angeles\") & (col(\"TEAM_NEW2\") == \"Lakers\"), \"LA Lakers\")\n",
    "    .when((col(\"TEAM_NEW\") == \"Los Angeles\") & (col(\"TEAM_NEW2\") == \"Clippers\"), \"LA Clippers\")\n",
    "    .when((col(\"TEAM_NEW\") == \"Portland Trail\") & (col(\"TEAM_NEW2\") == \"Blazers\"), \"Portland\")\n",
    "    .otherwise(col(\"TEAM_NEW\"))\n",
    ")\n",
    "\n",
    "shots_renamed = shots_renamed.withColumn(\n",
    "    \"AWAY_TEAM\",\n",
    "    when(col(\"AWAY_TEAM\") == \"BKN\", \"BRO\").otherwise(col(\"AWAY_TEAM\"))\n",
    ")\n",
    "shots_with_abbrv = shots_renamed.join(teams_abbrv, on=\"TEAM\", how=\"left\")\n",
    "\n",
    "shot_defend = shots_with_abbrv.withColumn(\n",
    "    \"TEAM_DEF\",\n",
    "    when(col(\"TEAM_ABBRV\") == col(\"HOME_TEAM\"), col(\"AWAY_TEAM\")).otherwise(col(\"HOME_TEAM\"))\n",
    ")\n",
    "\n",
    "shot_cat = shot_defend.withColumn(\"SHOT_CAT\", when(col(\"SHOT_MADE\") == \"true\", 1).otherwise(0))\n",
    "\n",
    "shots_final = shot_cat.withColumn(\"key\", concat(col(\"PLAYER_NAME\"), lit(\"_\"), col(\"TEAM_ABBRV\")))"
   ]
  },
  {
   "cell_type": "code",
   "execution_count": 0,
   "metadata": {
    "application/vnd.databricks.v1+cell": {
     "cellMetadata": {
      "byteLimit": 2048000,
      "rowLimit": 10000
     },
     "inputWidgets": {},
     "nuid": "0e02c719-2cec-4cd6-9aa5-c4c2698ebcb7",
     "showTitle": false,
     "tableResultSettingsMap": {},
     "title": ""
    }
   },
   "outputs": [],
   "source": [
    "master_df1 = shots_final.join(players_join, on=\"key\", how=\"left\")\n",
    "final_master = master_df1.join(teams_join, on=\"TEAM_DEF\", how=\"left\")"
   ]
  },
  {
   "cell_type": "code",
   "execution_count": 0,
   "metadata": {
    "application/vnd.databricks.v1+cell": {
     "cellMetadata": {
      "byteLimit": 2048000,
      "rowLimit": 10000
     },
     "inputWidgets": {},
     "nuid": "6f694586-c218-4d46-aae1-ee3846752451",
     "showTitle": false,
     "tableResultSettingsMap": {},
     "title": ""
    }
   },
   "outputs": [],
   "source": [
    "final_master = final_master.orderBy(\n",
    "    col(\"game_id\").asc(),\n",
    "    col(\"quarter\").asc(),\n",
    "    col(\"mins_left\").desc(),\n",
    "    col(\"secs_left\").desc()\n",
    ")"
   ]
  },
  {
   "cell_type": "code",
   "execution_count": 0,
   "metadata": {
    "application/vnd.databricks.v1+cell": {
     "cellMetadata": {
      "byteLimit": 2048000,
      "rowLimit": 10000
     },
     "inputWidgets": {},
     "nuid": "91192cbb-9e10-47f3-82fc-0f3637a58ece",
     "showTitle": false,
     "tableResultSettingsMap": {},
     "title": ""
    }
   },
   "outputs": [],
   "source": [
    "final_master = final_master.withColumn(\"shot_order\", monotonically_increasing_id())"
   ]
  },
  {
   "cell_type": "code",
   "execution_count": 0,
   "metadata": {
    "application/vnd.databricks.v1+cell": {
     "cellMetadata": {
      "byteLimit": 2048000,
      "rowLimit": 10000
     },
     "inputWidgets": {},
     "nuid": "4295fbe4-359b-4103-ad9d-e9219666cce0",
     "showTitle": false,
     "tableResultSettingsMap": {},
     "title": ""
    }
   },
   "outputs": [],
   "source": [
    "# Define a window partitioned by game_id and player_id, maintaining shot log order\n",
    "window_spec = Window.partitionBy(\"game_id\").orderBy(\n",
    "    col(\"quarter\").asc(), col(\"mins_left\").desc(), col(\"secs_left\").desc()\n",
    ").rowsBetween(Window.unboundedPreceding, Window.currentRow)\n",
    "\n",
    "# Calculate cumulative shots taken per player per game\n",
    "final_master_new = final_master.withColumn(\"shots_taken\", count(\"player_id\").over(window_spec) - 1)\n",
    "\n",
    "# Calculate cumulative shots made per player per game (only when shot_made = true)\n",
    "final_master_new = final_master_new.withColumn(\n",
    "    \"shots_made\",\n",
    "    F.sum(when(col(\"shot_made\") == True, 1).otherwise(0)).over(window_spec) - 1\n",
    ")\n",
    "\n",
    "# Ensure the first shot in each game for a player starts with 0\n",
    "first_shot_window = Window.partitionBy(\"game_id\", \"player_id\").orderBy(\n",
    "    col(\"quarter\").asc(), col(\"mins_left\").desc(), col(\"secs_left\").desc()\n",
    ")\n",
    "\n",
    "final_master_new = final_master_new.withColumn(\n",
    "    \"shots_taken\",\n",
    "    when(count(\"player_id\").over(first_shot_window) == 1, lit(0)).otherwise(col(\"shots_taken\"))\n",
    ")\n",
    "\n",
    "final_master_new = final_master_new.withColumn(\n",
    "    \"shots_made\",\n",
    "    when(count(\"player_id\").over(first_shot_window) == 1, lit(0)).otherwise(col(\"shots_made\"))\n",
    ")\n",
    "\n",
    "final_master_new = final_master_new.orderBy(\n",
    "    col(\"shot_order\").asc())"
   ]
  },
  {
   "cell_type": "code",
   "execution_count": 0,
   "metadata": {
    "application/vnd.databricks.v1+cell": {
     "cellMetadata": {
      "byteLimit": 2048000,
      "rowLimit": 10000
     },
     "inputWidgets": {},
     "nuid": "d351eff3-b752-4bfa-8857-1f4df009f805",
     "showTitle": false,
     "tableResultSettingsMap": {},
     "title": ""
    }
   },
   "outputs": [],
   "source": [
    "final_master_filter = final_master_new.filter(final_master.GP_Filter == \"Yes\")"
   ]
  },
  {
   "cell_type": "code",
   "execution_count": 0,
   "metadata": {
    "application/vnd.databricks.v1+cell": {
     "cellMetadata": {
      "byteLimit": 2048000,
      "rowLimit": 10000
     },
     "inputWidgets": {},
     "nuid": "fa34d2a9-ecf2-4fa2-bde8-855ac3accb75",
     "showTitle": false,
     "tableResultSettingsMap": {},
     "title": ""
    }
   },
   "outputs": [
    {
     "output_type": "execute_result",
     "data": {
      "text/plain": [
       "216722"
      ]
     },
     "execution_count": 13,
     "metadata": {},
     "output_type": "execute_result"
    }
   ],
   "source": [
    "final_master.count()"
   ]
  },
  {
   "cell_type": "code",
   "execution_count": 0,
   "metadata": {
    "application/vnd.databricks.v1+cell": {
     "cellMetadata": {
      "byteLimit": 2048000,
      "rowLimit": 10000
     },
     "inputWidgets": {},
     "nuid": "1d0790e8-7fa5-4e5f-9bd0-9eba87ac8bd6",
     "showTitle": false,
     "tableResultSettingsMap": {},
     "title": ""
    }
   },
   "outputs": [
    {
     "output_type": "execute_result",
     "data": {
      "text/plain": [
       "161557"
      ]
     },
     "execution_count": 14,
     "metadata": {},
     "output_type": "execute_result"
    }
   ],
   "source": [
    "final_master_filter.count()"
   ]
  },
  {
   "cell_type": "markdown",
   "metadata": {
    "application/vnd.databricks.v1+cell": {
     "cellMetadata": {
      "byteLimit": 2048000,
      "rowLimit": 10000
     },
     "inputWidgets": {},
     "nuid": "def7448d-e1e9-4aa4-a2f2-3b0f1ee8d6d9",
     "showTitle": false,
     "tableResultSettingsMap": {},
     "title": ""
    }
   },
   "source": [
    "## **EDA**"
   ]
  },
  {
   "cell_type": "code",
   "execution_count": 0,
   "metadata": {
    "application/vnd.databricks.v1+cell": {
     "cellMetadata": {
      "byteLimit": 2048000,
      "rowLimit": 10000
     },
     "inputWidgets": {},
     "nuid": "44833529-ec21-48a3-bacd-ccd678523e9b",
     "showTitle": false,
     "tableResultSettingsMap": {},
     "title": ""
    }
   },
   "outputs": [
    {
     "output_type": "stream",
     "name": "stdout",
     "output_type": "stream",
     "text": [
      "There are 661 players that played in the 2021-22 season. Of those, 260 played 50+ games that season.\n"
     ]
    }
   ],
   "source": [
    "print(f\"There are {players.count()} players that played in the 2021-22 season. Of those, {players_filtered.count()} played 50+ games that season.\")"
   ]
  },
  {
   "cell_type": "markdown",
   "metadata": {
    "application/vnd.databricks.v1+cell": {
     "cellMetadata": {
      "byteLimit": 2048000,
      "rowLimit": 10000
     },
     "inputWidgets": {},
     "nuid": "161d0d9d-537b-4fb6-a5dc-e56f80ab0d49",
     "showTitle": false,
     "tableResultSettingsMap": {},
     "title": ""
    }
   },
   "source": [
    "#### **EDA** - _Shots_"
   ]
  },
  {
   "cell_type": "code",
   "execution_count": 0,
   "metadata": {
    "application/vnd.databricks.v1+cell": {
     "cellMetadata": {
      "byteLimit": 2048000,
      "rowLimit": 10000
     },
     "inputWidgets": {},
     "nuid": "9704f90d-95ba-4c7d-b41f-5fefb69ded91",
     "showTitle": false,
     "tableResultSettingsMap": {},
     "title": ""
    }
   },
   "outputs": [
    {
     "output_type": "display_data",
     "data": {
      "text/html": [
       "<style scoped>\n",
       "  .table-result-container {\n",
       "    max-height: 300px;\n",
       "    overflow: auto;\n",
       "  }\n",
       "  table, th, td {\n",
       "    border: 1px solid black;\n",
       "    border-collapse: collapse;\n",
       "  }\n",
       "  th, td {\n",
       "    padding: 5px;\n",
       "  }\n",
       "  th {\n",
       "    text-align: left;\n",
       "  }\n",
       "</style><div class='table-result-container'><table class='table-result'><thead style='background-color: white'><tr><th>event_type</th><th>count</th><th>percentage</th></tr></thead><tbody><tr><td>Missed Shot</td><td>86515</td><td>53.55</td></tr><tr><td>Made Shot</td><td>75042</td><td>46.45</td></tr></tbody></table></div>"
      ]
     },
     "metadata": {
      "application/vnd.databricks.v1+output": {
       "addedWidgets": {},
       "aggData": [],
       "aggError": "",
       "aggOverflow": false,
       "aggSchema": [],
       "aggSeriesLimitReached": false,
       "aggType": "",
       "arguments": {},
       "columnCustomDisplayInfos": {},
       "data": [
        [
         "Missed Shot",
         86515,
         53.55
        ],
        [
         "Made Shot",
         75042,
         46.45
        ]
       ],
       "datasetInfos": [],
       "dbfsResultPath": null,
       "isJsonSchema": true,
       "metadata": {},
       "overflow": false,
       "plotOptions": {
        "customPlotOptions": {},
        "displayType": "table",
        "pivotAggregation": null,
        "pivotColumns": null,
        "xColumns": null,
        "yColumns": null
       },
       "removedWidgets": [],
       "schema": [
        {
         "metadata": "{}",
         "name": "event_type",
         "type": "\"string\""
        },
        {
         "metadata": "{}",
         "name": "count",
         "type": "\"long\""
        },
        {
         "metadata": "{}",
         "name": "percentage",
         "type": "\"double\""
        }
       ],
       "type": "table"
      }
     },
     "output_type": "display_data"
    }
   ],
   "source": [
    "from pyspark.sql.functions import col, count, sum, round\n",
    "\n",
    "shots_made = final_master_filter.groupBy(\"event_type\") \\\n",
    "  .agg(count(\"*\").alias(\"count\")) \\\n",
    "  .orderBy(col(\"count\").desc())\n",
    "\n",
    "# Compute total count of shots\n",
    "total_shots = shots_made.agg(sum(\"count\").alias(\"total\")).collect()[0][\"total\"]\n",
    "\n",
    "# Add percentage of total column\n",
    "shots_made = shots_made.withColumn(\"percentage\", round((col(\"count\") / total_shots) * 100, 2))\n",
    "\n",
    "display(shots_made)"
   ]
  },
  {
   "cell_type": "code",
   "execution_count": 0,
   "metadata": {
    "application/vnd.databricks.v1+cell": {
     "cellMetadata": {
      "byteLimit": 2048000,
      "rowLimit": 10000
     },
     "inputWidgets": {},
     "nuid": "46f73e34-c329-4b23-9381-9b936297ea87",
     "showTitle": false,
     "tableResultSettingsMap": {},
     "title": ""
    }
   },
   "outputs": [
    {
     "output_type": "display_data",
     "data": {
      "text/html": [
       "<style scoped>\n",
       "  .table-result-container {\n",
       "    max-height: 300px;\n",
       "    overflow: auto;\n",
       "  }\n",
       "  table, th, td {\n",
       "    border: 1px solid black;\n",
       "    border-collapse: collapse;\n",
       "  }\n",
       "  th, td {\n",
       "    padding: 5px;\n",
       "  }\n",
       "  th {\n",
       "    text-align: left;\n",
       "  }\n",
       "</style><div class='table-result-container'><table class='table-result'><thead style='background-color: white'><tr><th>action_type</th><th>count</th></tr></thead><tbody><tr><td>Jump Shot</td><td>70930</td></tr><tr><td>Pullup Jump shot</td><td>26249</td></tr><tr><td>Driving Layup Shot</td><td>18944</td></tr><tr><td>Step Back Jump shot</td><td>10310</td></tr><tr><td>Driving Floating Jump Shot</td><td>9586</td></tr><tr><td>Layup Shot</td><td>7977</td></tr><tr><td>Cutting Layup Shot</td><td>5282</td></tr><tr><td>Running Layup Shot</td><td>5152</td></tr><tr><td>Driving Finger Roll Layup Shot</td><td>5048</td></tr><tr><td>Floating Jump shot</td><td>4836</td></tr></tbody></table></div>"
      ]
     },
     "metadata": {
      "application/vnd.databricks.v1+output": {
       "addedWidgets": {},
       "aggData": [],
       "aggError": "",
       "aggOverflow": false,
       "aggSchema": [],
       "aggSeriesLimitReached": false,
       "aggType": "",
       "arguments": {},
       "columnCustomDisplayInfos": {},
       "data": [
        [
         "Jump Shot",
         70930
        ],
        [
         "Pullup Jump shot",
         26249
        ],
        [
         "Driving Layup Shot",
         18944
        ],
        [
         "Step Back Jump shot",
         10310
        ],
        [
         "Driving Floating Jump Shot",
         9586
        ],
        [
         "Layup Shot",
         7977
        ],
        [
         "Cutting Layup Shot",
         5282
        ],
        [
         "Running Layup Shot",
         5152
        ],
        [
         "Driving Finger Roll Layup Shot",
         5048
        ],
        [
         "Floating Jump shot",
         4836
        ]
       ],
       "datasetInfos": [],
       "dbfsResultPath": null,
       "isJsonSchema": true,
       "metadata": {},
       "overflow": false,
       "plotOptions": {
        "customPlotOptions": {},
        "displayType": "table",
        "pivotAggregation": null,
        "pivotColumns": null,
        "xColumns": null,
        "yColumns": null
       },
       "removedWidgets": [],
       "schema": [
        {
         "metadata": "{}",
         "name": "action_type",
         "type": "\"string\""
        },
        {
         "metadata": "{}",
         "name": "count",
         "type": "\"long\""
        }
       ],
       "type": "table"
      }
     },
     "output_type": "display_data"
    }
   ],
   "source": [
    "action_types = shots.groupBy(\"action_type\") \\\n",
    "  .agg(count(\"*\").alias(\"count\")) \\\n",
    "  .orderBy(col(\"count\").desc()) \\\n",
    "\n",
    "display(action_types.limit(10))"
   ]
  },
  {
   "cell_type": "code",
   "execution_count": 0,
   "metadata": {
    "application/vnd.databricks.v1+cell": {
     "cellMetadata": {
      "byteLimit": 2048000,
      "rowLimit": 10000
     },
     "inputWidgets": {},
     "nuid": "adb7590c-c885-40c8-b8ed-85d9c83902df",
     "showTitle": false,
     "tableResultSettingsMap": {},
     "title": ""
    }
   },
   "outputs": [
    {
     "output_type": "display_data",
     "data": {
      "text/html": [
       "<style scoped>\n",
       "  .table-result-container {\n",
       "    max-height: 300px;\n",
       "    overflow: auto;\n",
       "  }\n",
       "  table, th, td {\n",
       "    border: 1px solid black;\n",
       "    border-collapse: collapse;\n",
       "  }\n",
       "  th, td {\n",
       "    padding: 5px;\n",
       "  }\n",
       "  th {\n",
       "    text-align: left;\n",
       "  }\n",
       "</style><div class='table-result-container'><table class='table-result'><thead style='background-color: white'><tr><th>ZONE_NAME</th><th>count</th></tr></thead><tbody><tr><td>Center</td><td>120736</td></tr><tr><td>Left Side Center</td><td>28896</td></tr><tr><td>Right Side Center</td><td>27163</td></tr><tr><td>Left Side</td><td>20268</td></tr><tr><td>Right Side</td><td>19184</td></tr><tr><td>Back Court</td><td>475</td></tr></tbody></table></div>"
      ]
     },
     "metadata": {
      "application/vnd.databricks.v1+output": {
       "addedWidgets": {},
       "aggData": [],
       "aggError": "",
       "aggOverflow": false,
       "aggSchema": [],
       "aggSeriesLimitReached": false,
       "aggType": "",
       "arguments": {},
       "columnCustomDisplayInfos": {},
       "data": [
        [
         "Center",
         120736
        ],
        [
         "Left Side Center",
         28896
        ],
        [
         "Right Side Center",
         27163
        ],
        [
         "Left Side",
         20268
        ],
        [
         "Right Side",
         19184
        ],
        [
         "Back Court",
         475
        ]
       ],
       "datasetInfos": [],
       "dbfsResultPath": null,
       "isJsonSchema": true,
       "metadata": {},
       "overflow": false,
       "plotOptions": {
        "customPlotOptions": {},
        "displayType": "table",
        "pivotAggregation": null,
        "pivotColumns": null,
        "xColumns": null,
        "yColumns": null
       },
       "removedWidgets": [],
       "schema": [
        {
         "metadata": "{}",
         "name": "ZONE_NAME",
         "type": "\"string\""
        },
        {
         "metadata": "{}",
         "name": "count",
         "type": "\"long\""
        }
       ],
       "type": "table"
      }
     },
     "output_type": "display_data"
    }
   ],
   "source": [
    "zones = shots.groupBy(\"ZONE_NAME\") \\\n",
    "  .agg(count(\"*\").alias(\"count\")) \\\n",
    "  .orderBy(col(\"count\").desc()) \\\n",
    "\n",
    "display(zones)"
   ]
  },
  {
   "cell_type": "code",
   "execution_count": 0,
   "metadata": {
    "application/vnd.databricks.v1+cell": {
     "cellMetadata": {
      "byteLimit": 2048000,
      "rowLimit": 10000
     },
     "inputWidgets": {},
     "nuid": "893d4f0d-0e67-4281-82e9-a23fc79ac75f",
     "showTitle": false,
     "tableResultSettingsMap": {},
     "title": ""
    }
   },
   "outputs": [
    {
     "output_type": "display_data",
     "data": {
      "text/html": [
       "<style scoped>\n",
       "  .table-result-container {\n",
       "    max-height: 300px;\n",
       "    overflow: auto;\n",
       "  }\n",
       "  table, th, td {\n",
       "    border: 1px solid black;\n",
       "    border-collapse: collapse;\n",
       "  }\n",
       "  th, td {\n",
       "    padding: 5px;\n",
       "  }\n",
       "  th {\n",
       "    text-align: left;\n",
       "  }\n",
       "</style><div class='table-result-container'><table class='table-result'><thead style='background-color: white'><tr><th>BASIC_ZONE</th><th>count</th></tr></thead><tbody><tr><td>Above the Break 3</td><td>64447</td></tr><tr><td>Restricted Area</td><td>62987</td></tr><tr><td>In The Paint (Non-RA)</td><td>39668</td></tr><tr><td>Mid-Range</td><td>27712</td></tr><tr><td>Left Corner 3</td><td>11377</td></tr><tr><td>Right Corner 3</td><td>10091</td></tr><tr><td>Backcourt</td><td>440</td></tr></tbody></table></div>"
      ]
     },
     "metadata": {
      "application/vnd.databricks.v1+output": {
       "addedWidgets": {},
       "aggData": [],
       "aggError": "",
       "aggOverflow": false,
       "aggSchema": [],
       "aggSeriesLimitReached": false,
       "aggType": "",
       "arguments": {},
       "columnCustomDisplayInfos": {},
       "data": [
        [
         "Above the Break 3",
         64447
        ],
        [
         "Restricted Area",
         62987
        ],
        [
         "In The Paint (Non-RA)",
         39668
        ],
        [
         "Mid-Range",
         27712
        ],
        [
         "Left Corner 3",
         11377
        ],
        [
         "Right Corner 3",
         10091
        ],
        [
         "Backcourt",
         440
        ]
       ],
       "datasetInfos": [],
       "dbfsResultPath": null,
       "isJsonSchema": true,
       "metadata": {},
       "overflow": false,
       "plotOptions": {
        "customPlotOptions": {},
        "displayType": "table",
        "pivotAggregation": null,
        "pivotColumns": null,
        "xColumns": null,
        "yColumns": null
       },
       "removedWidgets": [],
       "schema": [
        {
         "metadata": "{}",
         "name": "BASIC_ZONE",
         "type": "\"string\""
        },
        {
         "metadata": "{}",
         "name": "count",
         "type": "\"long\""
        }
       ],
       "type": "table"
      }
     },
     "output_type": "display_data"
    }
   ],
   "source": [
    "basic_zones = shots.groupBy(\"BASIC_ZONE\") \\\n",
    "  .agg(count(\"*\").alias(\"count\")) \\\n",
    "  .orderBy(col(\"count\").desc()) \\\n",
    "\n",
    "display(basic_zones)"
   ]
  },
  {
   "cell_type": "code",
   "execution_count": 0,
   "metadata": {
    "application/vnd.databricks.v1+cell": {
     "cellMetadata": {
      "byteLimit": 2048000,
      "rowLimit": 10000
     },
     "inputWidgets": {},
     "nuid": "51801214-6f04-4408-bd07-58ed0afa3cb0",
     "showTitle": false,
     "tableResultSettingsMap": {},
     "title": ""
    }
   },
   "outputs": [
    {
     "output_type": "display_data",
     "data": {
      "text/html": [
       "<style scoped>\n",
       "  .table-result-container {\n",
       "    max-height: 300px;\n",
       "    overflow: auto;\n",
       "  }\n",
       "  table, th, td {\n",
       "    border: 1px solid black;\n",
       "    border-collapse: collapse;\n",
       "  }\n",
       "  th, td {\n",
       "    padding: 5px;\n",
       "  }\n",
       "  th {\n",
       "    text-align: left;\n",
       "  }\n",
       "</style><div class='table-result-container'><table class='table-result'><thead style='background-color: white'><tr><th>ZONE_RANGE</th><th>count</th></tr></thead><tbody><tr><td>Less Than 8 ft.</td><td>86338</td></tr><tr><td>24+ ft.</td><td>85880</td></tr><tr><td>8-16 ft.</td><td>28560</td></tr><tr><td>16-24 ft.</td><td>15469</td></tr><tr><td>Back Court Shot</td><td>475</td></tr></tbody></table></div>"
      ]
     },
     "metadata": {
      "application/vnd.databricks.v1+output": {
       "addedWidgets": {},
       "aggData": [],
       "aggError": "",
       "aggOverflow": false,
       "aggSchema": [],
       "aggSeriesLimitReached": false,
       "aggType": "",
       "arguments": {},
       "columnCustomDisplayInfos": {},
       "data": [
        [
         "Less Than 8 ft.",
         86338
        ],
        [
         "24+ ft.",
         85880
        ],
        [
         "8-16 ft.",
         28560
        ],
        [
         "16-24 ft.",
         15469
        ],
        [
         "Back Court Shot",
         475
        ]
       ],
       "datasetInfos": [],
       "dbfsResultPath": null,
       "isJsonSchema": true,
       "metadata": {},
       "overflow": false,
       "plotOptions": {
        "customPlotOptions": {},
        "displayType": "table",
        "pivotAggregation": null,
        "pivotColumns": null,
        "xColumns": null,
        "yColumns": null
       },
       "removedWidgets": [],
       "schema": [
        {
         "metadata": "{}",
         "name": "ZONE_RANGE",
         "type": "\"string\""
        },
        {
         "metadata": "{}",
         "name": "count",
         "type": "\"long\""
        }
       ],
       "type": "table"
      }
     },
     "output_type": "display_data"
    }
   ],
   "source": [
    "shot_range = shots.groupBy(\"ZONE_RANGE\") \\\n",
    "  .agg(count(\"*\").alias(\"count\")) \\\n",
    "  .orderBy(col(\"count\").desc()) \\\n",
    "\n",
    "display(shot_range)"
   ]
  },
  {
   "cell_type": "code",
   "execution_count": 0,
   "metadata": {
    "application/vnd.databricks.v1+cell": {
     "cellMetadata": {
      "byteLimit": 2048000,
      "rowLimit": 10000
     },
     "inputWidgets": {},
     "nuid": "79c89ea5-8255-4178-817c-312b05ef3def",
     "showTitle": false,
     "tableResultSettingsMap": {},
     "title": ""
    }
   },
   "outputs": [
    {
     "output_type": "display_data",
     "data": {
      "text/html": [
       "<style scoped>\n",
       "  .table-result-container {\n",
       "    max-height: 300px;\n",
       "    overflow: auto;\n",
       "  }\n",
       "  table, th, td {\n",
       "    border: 1px solid black;\n",
       "    border-collapse: collapse;\n",
       "  }\n",
       "  th, td {\n",
       "    padding: 5px;\n",
       "  }\n",
       "  th {\n",
       "    text-align: left;\n",
       "  }\n",
       "</style><div class='table-result-container'><table class='table-result'><thead style='background-color: white'><tr><th>QUARTER</th><th>count</th></tr></thead><tbody><tr><td>1</td><td>56132</td></tr><tr><td>2</td><td>54489</td></tr><tr><td>3</td><td>53475</td></tr><tr><td>4</td><td>51488</td></tr><tr><td>5</td><td>985</td></tr><tr><td>6</td><td>123</td></tr><tr><td>7</td><td>30</td></tr></tbody></table></div>"
      ]
     },
     "metadata": {
      "application/vnd.databricks.v1+output": {
       "addedWidgets": {},
       "aggData": [],
       "aggError": "",
       "aggOverflow": false,
       "aggSchema": [],
       "aggSeriesLimitReached": false,
       "aggType": "",
       "arguments": {},
       "columnCustomDisplayInfos": {},
       "data": [
        [
         1,
         56132
        ],
        [
         2,
         54489
        ],
        [
         3,
         53475
        ],
        [
         4,
         51488
        ],
        [
         5,
         985
        ],
        [
         6,
         123
        ],
        [
         7,
         30
        ]
       ],
       "datasetInfos": [],
       "dbfsResultPath": null,
       "isJsonSchema": true,
       "metadata": {},
       "overflow": false,
       "plotOptions": {
        "customPlotOptions": {},
        "displayType": "table",
        "pivotAggregation": null,
        "pivotColumns": null,
        "xColumns": null,
        "yColumns": null
       },
       "removedWidgets": [],
       "schema": [
        {
         "metadata": "{}",
         "name": "QUARTER",
         "type": "\"integer\""
        },
        {
         "metadata": "{}",
         "name": "count",
         "type": "\"long\""
        }
       ],
       "type": "table"
      }
     },
     "output_type": "display_data"
    }
   ],
   "source": [
    "shots_per_quarter = shots.groupBy(\"QUARTER\") \\\n",
    "  .agg(count(\"*\").alias(\"count\")) \\\n",
    "  .orderBy(col(\"count\").desc()) \\\n",
    "\n",
    "display(shots_per_quarter)"
   ]
  },
  {
   "cell_type": "markdown",
   "metadata": {
    "application/vnd.databricks.v1+cell": {
     "cellMetadata": {
      "byteLimit": 2048000,
      "rowLimit": 10000
     },
     "inputWidgets": {},
     "nuid": "4e1d88c7-0970-4bd0-b8dc-438fb76f368a",
     "showTitle": false,
     "tableResultSettingsMap": {},
     "title": ""
    }
   },
   "source": [
    "####**EDA** - _Teams_"
   ]
  },
  {
   "cell_type": "code",
   "execution_count": 0,
   "metadata": {
    "application/vnd.databricks.v1+cell": {
     "cellMetadata": {
      "byteLimit": 2048000,
      "rowLimit": 10000
     },
     "inputWidgets": {},
     "nuid": "02f37ba2-ff28-43e6-a068-c349f2ee0d7a",
     "showTitle": false,
     "tableResultSettingsMap": {},
     "title": ""
    }
   },
   "outputs": [
    {
     "output_type": "display_data",
     "data": {
      "text/html": [
       "<style scoped>\n",
       "  .table-result-container {\n",
       "    max-height: 300px;\n",
       "    overflow: auto;\n",
       "  }\n",
       "  table, th, td {\n",
       "    border: 1px solid black;\n",
       "    border-collapse: collapse;\n",
       "  }\n",
       "  th, td {\n",
       "    padding: 5px;\n",
       "  }\n",
       "  th {\n",
       "    text-align: left;\n",
       "  }\n",
       "</style><div class='table-result-container'><table class='table-result'><thead style='background-color: white'><tr><th>TEAM_NAME</th><th>count</th></tr></thead><tbody><tr><td>Memphis Grizzlies</td><td>7739</td></tr><tr><td>San Antonio Spurs</td><td>7601</td></tr><tr><td>Charlotte Hornets</td><td>7497</td></tr><tr><td>Toronto Raptors</td><td>7489</td></tr><tr><td>Minnesota Timberwolves</td><td>7458</td></tr><tr><td>Phoenix Suns</td><td>7389</td></tr><tr><td>Indiana Pacers</td><td>7338</td></tr><tr><td>Milwaukee Bucks</td><td>7331</td></tr><tr><td>Oklahoma City Thunder</td><td>7310</td></tr><tr><td>Los Angeles Lakers</td><td>7279</td></tr></tbody></table></div>"
      ]
     },
     "metadata": {
      "application/vnd.databricks.v1+output": {
       "addedWidgets": {},
       "aggData": [],
       "aggError": "",
       "aggOverflow": false,
       "aggSchema": [],
       "aggSeriesLimitReached": false,
       "aggType": "",
       "arguments": {},
       "columnCustomDisplayInfos": {},
       "data": [
        [
         "Memphis Grizzlies",
         7739
        ],
        [
         "San Antonio Spurs",
         7601
        ],
        [
         "Charlotte Hornets",
         7497
        ],
        [
         "Toronto Raptors",
         7489
        ],
        [
         "Minnesota Timberwolves",
         7458
        ],
        [
         "Phoenix Suns",
         7389
        ],
        [
         "Indiana Pacers",
         7338
        ],
        [
         "Milwaukee Bucks",
         7331
        ],
        [
         "Oklahoma City Thunder",
         7310
        ],
        [
         "Los Angeles Lakers",
         7279
        ]
       ],
       "datasetInfos": [],
       "dbfsResultPath": null,
       "isJsonSchema": true,
       "metadata": {},
       "overflow": false,
       "plotOptions": {
        "customPlotOptions": {},
        "displayType": "table",
        "pivotAggregation": null,
        "pivotColumns": null,
        "xColumns": null,
        "yColumns": null
       },
       "removedWidgets": [],
       "schema": [
        {
         "metadata": "{}",
         "name": "TEAM_NAME",
         "type": "\"string\""
        },
        {
         "metadata": "{}",
         "name": "count",
         "type": "\"long\""
        }
       ],
       "type": "table"
      }
     },
     "output_type": "display_data"
    }
   ],
   "source": [
    "top_10_shot_teams = shots.groupBy(\"TEAM_NAME\") \\\n",
    "  .agg(count(\"*\").alias(\"count\")) \\\n",
    "  .orderBy(col(\"count\").desc()) \\\n",
    "\n",
    "display(top_10_shot_teams.limit(10))"
   ]
  },
  {
   "cell_type": "code",
   "execution_count": 0,
   "metadata": {
    "application/vnd.databricks.v1+cell": {
     "cellMetadata": {
      "byteLimit": 2048000,
      "rowLimit": 10000
     },
     "inputWidgets": {},
     "nuid": "d0581490-90d3-4f5d-9cc5-53410d11642f",
     "showTitle": false,
     "tableResultSettingsMap": {},
     "title": ""
    }
   },
   "outputs": [
    {
     "output_type": "display_data",
     "data": {
      "text/html": [
       "<style scoped>\n",
       "  .table-result-container {\n",
       "    max-height: 300px;\n",
       "    overflow: auto;\n",
       "  }\n",
       "  table, th, td {\n",
       "    border: 1px solid black;\n",
       "    border-collapse: collapse;\n",
       "  }\n",
       "  th, td {\n",
       "    padding: 5px;\n",
       "  }\n",
       "  th {\n",
       "    text-align: left;\n",
       "  }\n",
       "</style><div class='table-result-container'><table class='table-result'><thead style='background-color: white'><tr><th>TEAM_NAME</th><th>count</th></tr></thead><tbody><tr><td>Philadelphia 76ers</td><td>6932</td></tr><tr><td>Cleveland Cavaliers</td><td>6940</td></tr><tr><td>Miami Heat</td><td>6954</td></tr><tr><td>Dallas Mavericks</td><td>6982</td></tr><tr><td>Washington Wizards</td><td>7056</td></tr><tr><td>Utah Jazz</td><td>7067</td></tr><tr><td>New York Knicks</td><td>7069</td></tr><tr><td>Denver Nuggets</td><td>7079</td></tr><tr><td>Houston Rockets</td><td>7083</td></tr><tr><td>Golden State Warriors</td><td>7087</td></tr></tbody></table></div>"
      ]
     },
     "metadata": {
      "application/vnd.databricks.v1+output": {
       "addedWidgets": {},
       "aggData": [],
       "aggError": "",
       "aggOverflow": false,
       "aggSchema": [],
       "aggSeriesLimitReached": false,
       "aggType": "",
       "arguments": {},
       "columnCustomDisplayInfos": {},
       "data": [
        [
         "Philadelphia 76ers",
         6932
        ],
        [
         "Cleveland Cavaliers",
         6940
        ],
        [
         "Miami Heat",
         6954
        ],
        [
         "Dallas Mavericks",
         6982
        ],
        [
         "Washington Wizards",
         7056
        ],
        [
         "Utah Jazz",
         7067
        ],
        [
         "New York Knicks",
         7069
        ],
        [
         "Denver Nuggets",
         7079
        ],
        [
         "Houston Rockets",
         7083
        ],
        [
         "Golden State Warriors",
         7087
        ]
       ],
       "datasetInfos": [],
       "dbfsResultPath": null,
       "isJsonSchema": true,
       "metadata": {},
       "overflow": false,
       "plotOptions": {
        "customPlotOptions": {},
        "displayType": "table",
        "pivotAggregation": null,
        "pivotColumns": null,
        "xColumns": null,
        "yColumns": null
       },
       "removedWidgets": [],
       "schema": [
        {
         "metadata": "{}",
         "name": "TEAM_NAME",
         "type": "\"string\""
        },
        {
         "metadata": "{}",
         "name": "count",
         "type": "\"long\""
        }
       ],
       "type": "table"
      }
     },
     "output_type": "display_data"
    }
   ],
   "source": [
    "bottom_10_shot_teams = shots.groupBy(\"TEAM_NAME\") \\\n",
    "  .agg(count(\"*\").alias(\"count\")) \\\n",
    "  .orderBy(col(\"count\").asc()) \\\n",
    "  \n",
    "display(bottom_10_shot_teams.limit(10))"
   ]
  },
  {
   "cell_type": "code",
   "execution_count": 0,
   "metadata": {
    "application/vnd.databricks.v1+cell": {
     "cellMetadata": {
      "byteLimit": 2048000,
      "rowLimit": 10000
     },
     "inputWidgets": {},
     "nuid": "1fecbbe1-51e5-4915-b5e1-de5af2b8793a",
     "showTitle": false,
     "tableResultSettingsMap": {},
     "title": ""
    }
   },
   "outputs": [
    {
     "output_type": "display_data",
     "data": {
      "text/html": [
       "<style scoped>\n",
       "  .table-result-container {\n",
       "    max-height: 300px;\n",
       "    overflow: auto;\n",
       "  }\n",
       "  table, th, td {\n",
       "    border: 1px solid black;\n",
       "    border-collapse: collapse;\n",
       "  }\n",
       "  th, td {\n",
       "    padding: 5px;\n",
       "  }\n",
       "  th {\n",
       "    text-align: left;\n",
       "  }\n",
       "</style><div class='table-result-container'><table class='table-result'><thead style='background-color: white'><tr><th>TEAM</th><th>oPPG</th></tr></thead><tbody><tr><td>Boston</td><td>104.5</td></tr><tr><td>Dallas</td><td>104.7</td></tr><tr><td>Golden State</td><td>105.5</td></tr><tr><td>Miami</td><td>105.6</td></tr><tr><td>Cleveland</td><td>105.7</td></tr><tr><td>New York</td><td>106.6</td></tr><tr><td>Toronto</td><td>107.1</td></tr><tr><td>Philadelphia</td><td>107.3</td></tr><tr><td>Phoenix</td><td>107.3</td></tr><tr><td>Utah</td><td>107.6</td></tr></tbody></table></div>"
      ]
     },
     "metadata": {
      "application/vnd.databricks.v1+output": {
       "addedWidgets": {},
       "aggData": [],
       "aggError": "",
       "aggOverflow": false,
       "aggSchema": [],
       "aggSeriesLimitReached": false,
       "aggType": "",
       "arguments": {},
       "columnCustomDisplayInfos": {},
       "data": [
        [
         "Boston",
         104.5
        ],
        [
         "Dallas",
         104.7
        ],
        [
         "Golden State",
         105.5
        ],
        [
         "Miami",
         105.6
        ],
        [
         "Cleveland",
         105.7
        ],
        [
         "New York",
         106.6
        ],
        [
         "Toronto",
         107.1
        ],
        [
         "Philadelphia",
         107.3
        ],
        [
         "Phoenix",
         107.3
        ],
        [
         "Utah",
         107.6
        ]
       ],
       "datasetInfos": [],
       "dbfsResultPath": null,
       "isJsonSchema": true,
       "metadata": {},
       "overflow": false,
       "plotOptions": {
        "customPlotOptions": {},
        "displayType": "table",
        "pivotAggregation": null,
        "pivotColumns": null,
        "xColumns": null,
        "yColumns": null
       },
       "removedWidgets": [],
       "schema": [
        {
         "metadata": "{}",
         "name": "TEAM",
         "type": "\"string\""
        },
        {
         "metadata": "{}",
         "name": "oPPG",
         "type": "\"double\""
        }
       ],
       "type": "table"
      }
     },
     "output_type": "display_data"
    }
   ],
   "source": [
    "oPPg = teams.select(\"TEAM\", \"oPPG\")\n",
    "top10_oPPg = oPPg.orderBy(col(\"oPPG\").asc()).limit(10)\n",
    "display(top10_oPPg)"
   ]
  },
  {
   "cell_type": "code",
   "execution_count": 0,
   "metadata": {
    "application/vnd.databricks.v1+cell": {
     "cellMetadata": {
      "byteLimit": 2048000,
      "rowLimit": 10000
     },
     "inputWidgets": {},
     "nuid": "fbf7b61b-9e26-441a-afe2-63980c9b0d9b",
     "showTitle": false,
     "tableResultSettingsMap": {},
     "title": ""
    }
   },
   "outputs": [
    {
     "output_type": "display_data",
     "data": {
      "text/html": [
       "<style scoped>\n",
       "  .table-result-container {\n",
       "    max-height: 300px;\n",
       "    overflow: auto;\n",
       "  }\n",
       "  table, th, td {\n",
       "    border: 1px solid black;\n",
       "    border-collapse: collapse;\n",
       "  }\n",
       "  th, td {\n",
       "    padding: 5px;\n",
       "  }\n",
       "  th {\n",
       "    text-align: left;\n",
       "  }\n",
       "</style><div class='table-result-container'><table class='table-result'><thead style='background-color: white'><tr><th>TEAM</th><th>dEFF</th></tr></thead><tbody><tr><td>Golden State</td><td>107.0</td></tr><tr><td>Boston</td><td>107.0</td></tr><tr><td>Phoenix</td><td>107.4</td></tr><tr><td>Memphis</td><td>109.0</td></tr><tr><td>Miami</td><td>109.1</td></tr><tr><td>Dallas</td><td>109.4</td></tr><tr><td>Cleveland</td><td>109.7</td></tr><tr><td>LA Clippers</td><td>110.2</td></tr><tr><td>Utah</td><td>110.5</td></tr><tr><td>Toronto</td><td>110.6</td></tr></tbody></table></div>"
      ]
     },
     "metadata": {
      "application/vnd.databricks.v1+output": {
       "addedWidgets": {},
       "aggData": [],
       "aggError": "",
       "aggOverflow": false,
       "aggSchema": [],
       "aggSeriesLimitReached": false,
       "aggType": "",
       "arguments": {},
       "columnCustomDisplayInfos": {},
       "data": [
        [
         "Golden State",
         107.0
        ],
        [
         "Boston",
         107.0
        ],
        [
         "Phoenix",
         107.4
        ],
        [
         "Memphis",
         109.0
        ],
        [
         "Miami",
         109.1
        ],
        [
         "Dallas",
         109.4
        ],
        [
         "Cleveland",
         109.7
        ],
        [
         "LA Clippers",
         110.2
        ],
        [
         "Utah",
         110.5
        ],
        [
         "Toronto",
         110.6
        ]
       ],
       "datasetInfos": [],
       "dbfsResultPath": null,
       "isJsonSchema": true,
       "metadata": {},
       "overflow": false,
       "plotOptions": {
        "customPlotOptions": {},
        "displayType": "table",
        "pivotAggregation": null,
        "pivotColumns": null,
        "xColumns": null,
        "yColumns": null
       },
       "removedWidgets": [],
       "schema": [
        {
         "metadata": "{}",
         "name": "TEAM",
         "type": "\"string\""
        },
        {
         "metadata": "{}",
         "name": "dEFF",
         "type": "\"double\""
        }
       ],
       "type": "table"
      }
     },
     "output_type": "display_data"
    }
   ],
   "source": [
    "dEFF = teams.select(\"TEAM\", \"dEFF\")\n",
    "top10_dEFF = dEFF.orderBy(col(\"dEFF\").asc()).limit(10)\n",
    "display(top10_dEFF)"
   ]
  },
  {
   "cell_type": "code",
   "execution_count": 0,
   "metadata": {
    "application/vnd.databricks.v1+cell": {
     "cellMetadata": {
      "byteLimit": 2048000,
      "rowLimit": 10000
     },
     "inputWidgets": {},
     "nuid": "f3998aec-0839-4b95-aa7f-e77861cd31ba",
     "showTitle": false,
     "tableResultSettingsMap": {},
     "title": ""
    }
   },
   "outputs": [
    {
     "output_type": "display_data",
     "data": {
      "text/html": [
       "<style scoped>\n",
       "  .table-result-container {\n",
       "    max-height: 300px;\n",
       "    overflow: auto;\n",
       "  }\n",
       "  table, th, td {\n",
       "    border: 1px solid black;\n",
       "    border-collapse: collapse;\n",
       "  }\n",
       "  th, td {\n",
       "    padding: 5px;\n",
       "  }\n",
       "  th {\n",
       "    text-align: left;\n",
       "  }\n",
       "</style><div class='table-result-container'><table class='table-result'><thead style='background-color: white'><tr><th>TEAM</th><th>oPPG</th></tr></thead><tbody><tr><td>Houston</td><td>118.2</td></tr><tr><td>Sacramento</td><td>115.8</td></tr><tr><td>Portland</td><td>115.1</td></tr><tr><td>LA Lakers</td><td>115.1</td></tr><tr><td>Indiana</td><td>114.9</td></tr><tr><td>Charlotte</td><td>114.9</td></tr><tr><td>Minnesota</td><td>113.3</td></tr><tr><td>San Antonio</td><td>113.0</td></tr><tr><td>Detroit</td><td>112.5</td></tr><tr><td>Atlanta</td><td>112.4</td></tr></tbody></table></div>"
      ]
     },
     "metadata": {
      "application/vnd.databricks.v1+output": {
       "addedWidgets": {},
       "aggData": [],
       "aggError": "",
       "aggOverflow": false,
       "aggSchema": [],
       "aggSeriesLimitReached": false,
       "aggType": "",
       "arguments": {},
       "columnCustomDisplayInfos": {},
       "data": [
        [
         "Houston",
         118.2
        ],
        [
         "Sacramento",
         115.8
        ],
        [
         "Portland",
         115.1
        ],
        [
         "LA Lakers",
         115.1
        ],
        [
         "Indiana",
         114.9
        ],
        [
         "Charlotte",
         114.9
        ],
        [
         "Minnesota",
         113.3
        ],
        [
         "San Antonio",
         113.0
        ],
        [
         "Detroit",
         112.5
        ],
        [
         "Atlanta",
         112.4
        ]
       ],
       "datasetInfos": [],
       "dbfsResultPath": null,
       "isJsonSchema": true,
       "metadata": {},
       "overflow": false,
       "plotOptions": {
        "customPlotOptions": {},
        "displayType": "table",
        "pivotAggregation": null,
        "pivotColumns": null,
        "xColumns": null,
        "yColumns": null
       },
       "removedWidgets": [],
       "schema": [
        {
         "metadata": "{}",
         "name": "TEAM",
         "type": "\"string\""
        },
        {
         "metadata": "{}",
         "name": "oPPG",
         "type": "\"double\""
        }
       ],
       "type": "table"
      }
     },
     "output_type": "display_data"
    }
   ],
   "source": [
    "bottom10_oPPg = oPPg.orderBy(col(\"oPPG\").desc()).limit(10)\n",
    "display(bottom10_oPPg)"
   ]
  },
  {
   "cell_type": "code",
   "execution_count": 0,
   "metadata": {
    "application/vnd.databricks.v1+cell": {
     "cellMetadata": {
      "byteLimit": 2048000,
      "rowLimit": 10000
     },
     "inputWidgets": {},
     "nuid": "504b1b23-ead6-4b5e-83a6-7e0e649ddff5",
     "showTitle": false,
     "tableResultSettingsMap": {},
     "title": ""
    }
   },
   "outputs": [
    {
     "output_type": "display_data",
     "data": {
      "text/html": [
       "<style scoped>\n",
       "  .table-result-container {\n",
       "    max-height: 300px;\n",
       "    overflow: auto;\n",
       "  }\n",
       "  table, th, td {\n",
       "    border: 1px solid black;\n",
       "    border-collapse: collapse;\n",
       "  }\n",
       "  th, td {\n",
       "    padding: 5px;\n",
       "  }\n",
       "  th {\n",
       "    text-align: left;\n",
       "  }\n",
       "</style><div class='table-result-container'><table class='table-result'><thead style='background-color: white'><tr><th>TEAM</th><th>dEFF</th></tr></thead><tbody><tr><td>Portland</td><td>116.9</td></tr><tr><td>Houston</td><td>116.8</td></tr><tr><td>Indiana</td><td>116.1</td></tr><tr><td>Sacramento</td><td>115.4</td></tr><tr><td>Atlanta</td><td>114.9</td></tr><tr><td>Washington</td><td>114.6</td></tr><tr><td>Detroit</td><td>113.8</td></tr><tr><td>Charlotte</td><td>113.8</td></tr><tr><td>Chicago</td><td>113.6</td></tr><tr><td>LA Lakers</td><td>113.5</td></tr></tbody></table></div>"
      ]
     },
     "metadata": {
      "application/vnd.databricks.v1+output": {
       "addedWidgets": {},
       "aggData": [],
       "aggError": "",
       "aggOverflow": false,
       "aggSchema": [],
       "aggSeriesLimitReached": false,
       "aggType": "",
       "arguments": {},
       "columnCustomDisplayInfos": {},
       "data": [
        [
         "Portland",
         116.9
        ],
        [
         "Houston",
         116.8
        ],
        [
         "Indiana",
         116.1
        ],
        [
         "Sacramento",
         115.4
        ],
        [
         "Atlanta",
         114.9
        ],
        [
         "Washington",
         114.6
        ],
        [
         "Detroit",
         113.8
        ],
        [
         "Charlotte",
         113.8
        ],
        [
         "Chicago",
         113.6
        ],
        [
         "LA Lakers",
         113.5
        ]
       ],
       "datasetInfos": [],
       "dbfsResultPath": null,
       "isJsonSchema": true,
       "metadata": {},
       "overflow": false,
       "plotOptions": {
        "customPlotOptions": {},
        "displayType": "table",
        "pivotAggregation": null,
        "pivotColumns": null,
        "xColumns": null,
        "yColumns": null
       },
       "removedWidgets": [],
       "schema": [
        {
         "metadata": "{}",
         "name": "TEAM",
         "type": "\"string\""
        },
        {
         "metadata": "{}",
         "name": "dEFF",
         "type": "\"double\""
        }
       ],
       "type": "table"
      }
     },
     "output_type": "display_data"
    }
   ],
   "source": [
    "bottom10_dEFF = dEFF.orderBy(col(\"dEFF\").desc()).limit(10)\n",
    "display(bottom10_dEFF)"
   ]
  },
  {
   "cell_type": "markdown",
   "metadata": {
    "application/vnd.databricks.v1+cell": {
     "cellMetadata": {
      "byteLimit": 2048000,
      "rowLimit": 10000
     },
     "inputWidgets": {},
     "nuid": "55628743-682e-498b-b718-24e1b022d5b7",
     "showTitle": false,
     "tableResultSettingsMap": {},
     "title": ""
    }
   },
   "source": [
    "####**EDA** - _Players_"
   ]
  },
  {
   "cell_type": "code",
   "execution_count": 0,
   "metadata": {
    "application/vnd.databricks.v1+cell": {
     "cellMetadata": {
      "byteLimit": 2048000,
      "rowLimit": 10000
     },
     "inputWidgets": {},
     "nuid": "6e9dfa88-f526-49a7-ae04-42b1d06b26ac",
     "showTitle": false,
     "tableResultSettingsMap": {},
     "title": ""
    }
   },
   "outputs": [
    {
     "output_type": "display_data",
     "data": {
      "text/html": [
       "<style scoped>\n",
       "  .table-result-container {\n",
       "    max-height: 300px;\n",
       "    overflow: auto;\n",
       "  }\n",
       "  table, th, td {\n",
       "    border: 1px solid black;\n",
       "    border-collapse: collapse;\n",
       "  }\n",
       "  th, td {\n",
       "    padding: 5px;\n",
       "  }\n",
       "  th {\n",
       "    text-align: left;\n",
       "  }\n",
       "</style><div class='table-result-container'><table class='table-result'><thead style='background-color: white'><tr><th>player_name</th><th>count</th></tr></thead><tbody><tr><td>Jayson Tatum</td><td>1564</td></tr><tr><td>Trae Young</td><td>1544</td></tr><tr><td>DeMar DeRozan</td><td>1535</td></tr><tr><td>Devin Booker</td><td>1421</td></tr><tr><td>Luka Doncic</td><td>1403</td></tr><tr><td>Donovan Mitchell</td><td>1376</td></tr><tr><td>Joel Embiid</td><td>1334</td></tr><tr><td>Nikola Jokic</td><td>1311</td></tr><tr><td>LaMelo Ball</td><td>1254</td></tr><tr><td>Julius Randle</td><td>1246</td></tr></tbody></table></div>"
      ]
     },
     "metadata": {
      "application/vnd.databricks.v1+output": {
       "addedWidgets": {},
       "aggData": [],
       "aggError": "",
       "aggOverflow": false,
       "aggSchema": [],
       "aggSeriesLimitReached": false,
       "aggType": "",
       "arguments": {},
       "columnCustomDisplayInfos": {},
       "data": [
        [
         "Jayson Tatum",
         1564
        ],
        [
         "Trae Young",
         1544
        ],
        [
         "DeMar DeRozan",
         1535
        ],
        [
         "Devin Booker",
         1421
        ],
        [
         "Luka Doncic",
         1403
        ],
        [
         "Donovan Mitchell",
         1376
        ],
        [
         "Joel Embiid",
         1334
        ],
        [
         "Nikola Jokic",
         1311
        ],
        [
         "LaMelo Ball",
         1254
        ],
        [
         "Julius Randle",
         1246
        ]
       ],
       "datasetInfos": [],
       "dbfsResultPath": null,
       "isJsonSchema": true,
       "metadata": {},
       "overflow": false,
       "plotOptions": {
        "customPlotOptions": {},
        "displayType": "table",
        "pivotAggregation": null,
        "pivotColumns": null,
        "xColumns": null,
        "yColumns": null
       },
       "removedWidgets": [],
       "schema": [
        {
         "metadata": "{}",
         "name": "player_name",
         "type": "\"string\""
        },
        {
         "metadata": "{}",
         "name": "count",
         "type": "\"long\""
        }
       ],
       "type": "table"
      }
     },
     "output_type": "display_data"
    }
   ],
   "source": [
    "top_10_shot_takers = final_master_filter.groupBy(\"player_name\") \\\n",
    "  .agg(count(\"*\").alias(\"count\")) \\\n",
    "  .orderBy(col(\"count\").desc()) \\\n",
    "\n",
    "display(top_10_shot_takers.limit(10))"
   ]
  },
  {
   "cell_type": "code",
   "execution_count": 0,
   "metadata": {
    "application/vnd.databricks.v1+cell": {
     "cellMetadata": {
      "byteLimit": 2048000,
      "rowLimit": 10000
     },
     "inputWidgets": {},
     "nuid": "acf5a7c8-792a-4bdb-984a-abf8f455b848",
     "showTitle": false,
     "tableResultSettingsMap": {},
     "title": ""
    }
   },
   "outputs": [
    {
     "output_type": "display_data",
     "data": {
      "text/html": [
       "<style scoped>\n",
       "  .table-result-container {\n",
       "    max-height: 300px;\n",
       "    overflow: auto;\n",
       "  }\n",
       "  table, th, td {\n",
       "    border: 1px solid black;\n",
       "    border-collapse: collapse;\n",
       "  }\n",
       "  th, td {\n",
       "    padding: 5px;\n",
       "  }\n",
       "  th {\n",
       "    text-align: left;\n",
       "  }\n",
       "</style><div class='table-result-container'><table class='table-result'><thead style='background-color: white'><tr><th>FULL NAME</th><th>eFG%</th></tr></thead><tbody><tr><td>Mitchell Robinson</td><td>0.761</td></tr><tr><td>Robert Williams III</td><td>0.736</td></tr><tr><td>Rudy Gobert</td><td>0.713</td></tr><tr><td>Daniel Gafford</td><td>0.695</td></tr><tr><td>Dwight Powell</td><td>0.687</td></tr><tr><td>Gary Payton II</td><td>0.679</td></tr><tr><td>Jarrett Allen</td><td>0.678</td></tr><tr><td>Damian Jones</td><td>0.677</td></tr><tr><td>Nick Richards</td><td>0.667</td></tr><tr><td>Hassan Whiteside</td><td>0.652</td></tr></tbody></table></div>"
      ]
     },
     "metadata": {
      "application/vnd.databricks.v1+output": {
       "addedWidgets": {},
       "aggData": [],
       "aggError": "",
       "aggOverflow": false,
       "aggSchema": [],
       "aggSeriesLimitReached": false,
       "aggType": "",
       "arguments": {},
       "columnCustomDisplayInfos": {},
       "data": [
        [
         "Mitchell Robinson",
         0.761
        ],
        [
         "Robert Williams III",
         0.736
        ],
        [
         "Rudy Gobert",
         0.713
        ],
        [
         "Daniel Gafford",
         0.695
        ],
        [
         "Dwight Powell",
         0.687
        ],
        [
         "Gary Payton II",
         0.679
        ],
        [
         "Jarrett Allen",
         0.678
        ],
        [
         "Damian Jones",
         0.677
        ],
        [
         "Nick Richards",
         0.667
        ],
        [
         "Hassan Whiteside",
         0.652
        ]
       ],
       "datasetInfos": [],
       "dbfsResultPath": null,
       "isJsonSchema": true,
       "metadata": {},
       "overflow": false,
       "plotOptions": {
        "customPlotOptions": {},
        "displayType": "table",
        "pivotAggregation": null,
        "pivotColumns": null,
        "xColumns": null,
        "yColumns": null
       },
       "removedWidgets": [],
       "schema": [
        {
         "metadata": "{}",
         "name": "FULL NAME",
         "type": "\"string\""
        },
        {
         "metadata": "{}",
         "name": "eFG%",
         "type": "\"double\""
        }
       ],
       "type": "table"
      }
     },
     "output_type": "display_data"
    }
   ],
   "source": [
    "eFG = players_filtered.select(\"FULL NAME\", \"eFG%\")\n",
    "top10_eFG = eFG.orderBy(col(\"eFG%\").desc()).limit(10)\n",
    "display(top10_eFG)"
   ]
  },
  {
   "cell_type": "code",
   "execution_count": 0,
   "metadata": {
    "application/vnd.databricks.v1+cell": {
     "cellMetadata": {
      "byteLimit": 2048000,
      "rowLimit": 10000
     },
     "inputWidgets": {},
     "nuid": "31739961-487d-40da-b6f5-48ba62590b36",
     "showTitle": false,
     "tableResultSettingsMap": {},
     "title": ""
    }
   },
   "outputs": [
    {
     "output_type": "display_data",
     "data": {
      "text/html": [
       "<style scoped>\n",
       "  .table-result-container {\n",
       "    max-height: 300px;\n",
       "    overflow: auto;\n",
       "  }\n",
       "  table, th, td {\n",
       "    border: 1px solid black;\n",
       "    border-collapse: collapse;\n",
       "  }\n",
       "  th, td {\n",
       "    padding: 5px;\n",
       "  }\n",
       "  th {\n",
       "    text-align: left;\n",
       "  }\n",
       "</style><div class='table-result-container'><table class='table-result'><thead style='background-color: white'><tr><th>FULL NAME</th><th>TS%</th></tr></thead><tbody><tr><td>Robert Williams III</td><td>0.745</td></tr><tr><td>Rudy Gobert</td><td>0.732</td></tr><tr><td>Dwight Powell</td><td>0.725</td></tr><tr><td>Mitchell Robinson</td><td>0.722</td></tr><tr><td>Daniel Gafford</td><td>0.709</td></tr><tr><td>Damian Jones</td><td>0.701</td></tr><tr><td>Jarrett Allen</td><td>0.698</td></tr><tr><td>Nick Richards</td><td>0.689</td></tr><tr><td>Jaxson Hayes</td><td>0.679</td></tr><tr><td>Gary Payton II</td><td>0.679</td></tr></tbody></table></div>"
      ]
     },
     "metadata": {
      "application/vnd.databricks.v1+output": {
       "addedWidgets": {},
       "aggData": [],
       "aggError": "",
       "aggOverflow": false,
       "aggSchema": [],
       "aggSeriesLimitReached": false,
       "aggType": "",
       "arguments": {},
       "columnCustomDisplayInfos": {},
       "data": [
        [
         "Robert Williams III",
         0.745
        ],
        [
         "Rudy Gobert",
         0.732
        ],
        [
         "Dwight Powell",
         0.725
        ],
        [
         "Mitchell Robinson",
         0.722
        ],
        [
         "Daniel Gafford",
         0.709
        ],
        [
         "Damian Jones",
         0.701
        ],
        [
         "Jarrett Allen",
         0.698
        ],
        [
         "Nick Richards",
         0.689
        ],
        [
         "Jaxson Hayes",
         0.679
        ],
        [
         "Gary Payton II",
         0.679
        ]
       ],
       "datasetInfos": [],
       "dbfsResultPath": null,
       "isJsonSchema": true,
       "metadata": {},
       "overflow": false,
       "plotOptions": {
        "customPlotOptions": {},
        "displayType": "table",
        "pivotAggregation": null,
        "pivotColumns": null,
        "xColumns": null,
        "yColumns": null
       },
       "removedWidgets": [],
       "schema": [
        {
         "metadata": "{}",
         "name": "FULL NAME",
         "type": "\"string\""
        },
        {
         "metadata": "{}",
         "name": "TS%",
         "type": "\"double\""
        }
       ],
       "type": "table"
      }
     },
     "output_type": "display_data"
    }
   ],
   "source": [
    "TS = players_filtered.select(\"FULL NAME\", \"TS%\")\n",
    "top10_TS = TS.orderBy(col(\"TS%\").desc()).limit(10)\n",
    "display(top10_TS)"
   ]
  },
  {
   "cell_type": "code",
   "execution_count": 0,
   "metadata": {
    "application/vnd.databricks.v1+cell": {
     "cellMetadata": {
      "byteLimit": 2048000,
      "rowLimit": 10000
     },
     "inputWidgets": {},
     "nuid": "1b2556ca-a2c1-45a8-8e23-516bc97eb65b",
     "showTitle": false,
     "tableResultSettingsMap": {},
     "title": ""
    }
   },
   "outputs": [
    {
     "output_type": "display_data",
     "data": {
      "text/html": [
       "<style scoped>\n",
       "  .table-result-container {\n",
       "    max-height: 300px;\n",
       "    overflow: auto;\n",
       "  }\n",
       "  table, th, td {\n",
       "    border: 1px solid black;\n",
       "    border-collapse: collapse;\n",
       "  }\n",
       "  th, td {\n",
       "    padding: 5px;\n",
       "  }\n",
       "  th {\n",
       "    text-align: left;\n",
       "  }\n",
       "</style><div class='table-result-container'><table class='table-result'><thead style='background-color: white'><tr><th>FULL NAME</th><th>2P%</th></tr></thead><tbody><tr><td>Mitchell Robinson</td><td>0.761</td></tr><tr><td>Gary Payton II</td><td>0.754</td></tr><tr><td>Robert Williams III</td><td>0.738</td></tr><tr><td>Rudy Gobert</td><td>0.718</td></tr><tr><td>Dwight Powell</td><td>0.703</td></tr><tr><td>Daniel Gafford</td><td>0.697</td></tr><tr><td>Damian Jones</td><td>0.696</td></tr><tr><td>Jarrett Allen</td><td>0.688</td></tr><tr><td>Matisse Thybulle</td><td>0.673</td></tr><tr><td>Moritz Wagner</td><td>0.672</td></tr></tbody></table></div>"
      ]
     },
     "metadata": {
      "application/vnd.databricks.v1+output": {
       "addedWidgets": {},
       "aggData": [],
       "aggError": "",
       "aggOverflow": false,
       "aggSchema": [],
       "aggSeriesLimitReached": false,
       "aggType": "",
       "arguments": {},
       "columnCustomDisplayInfos": {},
       "data": [
        [
         "Mitchell Robinson",
         0.761
        ],
        [
         "Gary Payton II",
         0.754
        ],
        [
         "Robert Williams III",
         0.738
        ],
        [
         "Rudy Gobert",
         0.718
        ],
        [
         "Dwight Powell",
         0.703
        ],
        [
         "Daniel Gafford",
         0.697
        ],
        [
         "Damian Jones",
         0.696
        ],
        [
         "Jarrett Allen",
         0.688
        ],
        [
         "Matisse Thybulle",
         0.673
        ],
        [
         "Moritz Wagner",
         0.672
        ]
       ],
       "datasetInfos": [],
       "dbfsResultPath": null,
       "isJsonSchema": true,
       "metadata": {},
       "overflow": false,
       "plotOptions": {
        "customPlotOptions": {},
        "displayType": "table",
        "pivotAggregation": null,
        "pivotColumns": null,
        "xColumns": null,
        "yColumns": null
       },
       "removedWidgets": [],
       "schema": [
        {
         "metadata": "{}",
         "name": "FULL NAME",
         "type": "\"string\""
        },
        {
         "metadata": "{}",
         "name": "2P%",
         "type": "\"double\""
        }
       ],
       "type": "table"
      }
     },
     "output_type": "display_data"
    }
   ],
   "source": [
    "two_pt = players_filtered.select(\"FULL NAME\", \"2P%\")\n",
    "top10_two_pt = two_pt.orderBy(col(\"2P%\").desc()).limit(10)\n",
    "display(top10_two_pt)"
   ]
  },
  {
   "cell_type": "code",
   "execution_count": 0,
   "metadata": {
    "application/vnd.databricks.v1+cell": {
     "cellMetadata": {
      "byteLimit": 2048000,
      "rowLimit": 10000
     },
     "inputWidgets": {},
     "nuid": "2dfae893-c3da-496e-9d69-3f5f96aa3a3b",
     "showTitle": false,
     "tableResultSettingsMap": {},
     "title": ""
    }
   },
   "outputs": [
    {
     "output_type": "display_data",
     "data": {
      "text/html": [
       "<style scoped>\n",
       "  .table-result-container {\n",
       "    max-height: 300px;\n",
       "    overflow: auto;\n",
       "  }\n",
       "  table, th, td {\n",
       "    border: 1px solid black;\n",
       "    border-collapse: collapse;\n",
       "  }\n",
       "  th, td {\n",
       "    padding: 5px;\n",
       "  }\n",
       "  th {\n",
       "    text-align: left;\n",
       "  }\n",
       "</style><div class='table-result-container'><table class='table-result'><thead style='background-color: white'><tr><th>FULL NAME</th><th>3P%</th></tr></thead><tbody><tr><td>Jakob Poeltl</td><td>1.0</td></tr><tr><td>Dwight Howard</td><td>0.533</td></tr><tr><td>Isaiah Hartenstein</td><td>0.467</td></tr><tr><td>Luke Kennard</td><td>0.449</td></tr><tr><td>Desmond Bane</td><td>0.436</td></tr><tr><td>Tyrese Maxey</td><td>0.427</td></tr><tr><td>Cameron Johnson</td><td>0.425</td></tr><tr><td>Doug McDermott</td><td>0.422</td></tr><tr><td>P.J. Tucker</td><td>0.415</td></tr><tr><td>Cory Joseph</td><td>0.414</td></tr></tbody></table></div>"
      ]
     },
     "metadata": {
      "application/vnd.databricks.v1+output": {
       "addedWidgets": {},
       "aggData": [],
       "aggError": "",
       "aggOverflow": false,
       "aggSchema": [],
       "aggSeriesLimitReached": false,
       "aggType": "",
       "arguments": {},
       "columnCustomDisplayInfos": {},
       "data": [
        [
         "Jakob Poeltl",
         1.0
        ],
        [
         "Dwight Howard",
         0.533
        ],
        [
         "Isaiah Hartenstein",
         0.467
        ],
        [
         "Luke Kennard",
         0.449
        ],
        [
         "Desmond Bane",
         0.436
        ],
        [
         "Tyrese Maxey",
         0.427
        ],
        [
         "Cameron Johnson",
         0.425
        ],
        [
         "Doug McDermott",
         0.422
        ],
        [
         "P.J. Tucker",
         0.415
        ],
        [
         "Cory Joseph",
         0.414
        ]
       ],
       "datasetInfos": [],
       "dbfsResultPath": null,
       "isJsonSchema": true,
       "metadata": {},
       "overflow": false,
       "plotOptions": {
        "customPlotOptions": {},
        "displayType": "table",
        "pivotAggregation": null,
        "pivotColumns": null,
        "xColumns": null,
        "yColumns": null
       },
       "removedWidgets": [],
       "schema": [
        {
         "metadata": "{}",
         "name": "FULL NAME",
         "type": "\"string\""
        },
        {
         "metadata": "{}",
         "name": "3P%",
         "type": "\"double\""
        }
       ],
       "type": "table"
      }
     },
     "output_type": "display_data"
    }
   ],
   "source": [
    "three_pt = players_filtered.select(\"FULL NAME\", \"3P%\")\n",
    "top10_three_pt = three_pt.orderBy(col(\"3P%\").desc()).limit(10)\n",
    "display(top10_three_pt)"
   ]
  },
  {
   "cell_type": "code",
   "execution_count": 0,
   "metadata": {
    "application/vnd.databricks.v1+cell": {
     "cellMetadata": {
      "byteLimit": 2048000,
      "rowLimit": 10000
     },
     "inputWidgets": {},
     "nuid": "96a601d6-4951-41c5-8490-c46666e2f9d3",
     "showTitle": false,
     "tableResultSettingsMap": {},
     "title": ""
    }
   },
   "outputs": [
    {
     "output_type": "display_data",
     "data": {
      "text/html": [
       "<style scoped>\n",
       "  .table-result-container {\n",
       "    max-height: 300px;\n",
       "    overflow: auto;\n",
       "  }\n",
       "  table, th, td {\n",
       "    border: 1px solid black;\n",
       "    border-collapse: collapse;\n",
       "  }\n",
       "  th, td {\n",
       "    padding: 5px;\n",
       "  }\n",
       "  th {\n",
       "    text-align: left;\n",
       "  }\n",
       "</style><div class='table-result-container'><table class='table-result'><thead style='background-color: white'><tr><th>FULL NAME</th><th>ORTG</th></tr></thead><tbody><tr><td>Robert Williams III</td><td>149.8</td></tr><tr><td>Dwight Powell</td><td>144.5</td></tr><tr><td>Mitchell Robinson</td><td>144.1</td></tr><tr><td>Rudy Gobert</td><td>138.5</td></tr><tr><td>Brandon Clarke</td><td>137.4</td></tr><tr><td>Daniel Gafford</td><td>136.2</td></tr><tr><td>Clint Capela</td><td>134.0</td></tr><tr><td>John Konchar</td><td>133.0</td></tr><tr><td>Hassan Whiteside</td><td>133.0</td></tr><tr><td>Jarrett Allen</td><td>132.8</td></tr></tbody></table></div>"
      ]
     },
     "metadata": {
      "application/vnd.databricks.v1+output": {
       "addedWidgets": {},
       "aggData": [],
       "aggError": "",
       "aggOverflow": false,
       "aggSchema": [],
       "aggSeriesLimitReached": false,
       "aggType": "",
       "arguments": {},
       "columnCustomDisplayInfos": {},
       "data": [
        [
         "Robert Williams III",
         149.8
        ],
        [
         "Dwight Powell",
         144.5
        ],
        [
         "Mitchell Robinson",
         144.1
        ],
        [
         "Rudy Gobert",
         138.5
        ],
        [
         "Brandon Clarke",
         137.4
        ],
        [
         "Daniel Gafford",
         136.2
        ],
        [
         "Clint Capela",
         134.0
        ],
        [
         "John Konchar",
         133.0
        ],
        [
         "Hassan Whiteside",
         133.0
        ],
        [
         "Jarrett Allen",
         132.8
        ]
       ],
       "datasetInfos": [],
       "dbfsResultPath": null,
       "isJsonSchema": true,
       "metadata": {},
       "overflow": false,
       "plotOptions": {
        "customPlotOptions": {},
        "displayType": "table",
        "pivotAggregation": null,
        "pivotColumns": null,
        "xColumns": null,
        "yColumns": null
       },
       "removedWidgets": [],
       "schema": [
        {
         "metadata": "{}",
         "name": "FULL NAME",
         "type": "\"string\""
        },
        {
         "metadata": "{}",
         "name": "ORTG",
         "type": "\"double\""
        }
       ],
       "type": "table"
      }
     },
     "output_type": "display_data"
    }
   ],
   "source": [
    "ORTG = players_filtered.select(\"FULL NAME\", \"ORTG\")\n",
    "top10_ORTG = ORTG.orderBy(col(\"ORTG\").desc()).limit(10)\n",
    "display(top10_ORTG)"
   ]
  },
  {
   "cell_type": "markdown",
   "metadata": {
    "application/vnd.databricks.v1+cell": {
     "cellMetadata": {
      "byteLimit": 2048000,
      "rowLimit": 10000
     },
     "inputWidgets": {},
     "nuid": "e2b7a352-7937-472a-9056-6c8f74790c3e",
     "showTitle": false,
     "tableResultSettingsMap": {},
     "title": ""
    }
   },
   "source": [
    "## **Correlations**"
   ]
  },
  {
   "cell_type": "code",
   "execution_count": 0,
   "metadata": {
    "application/vnd.databricks.v1+cell": {
     "cellMetadata": {
      "byteLimit": 2048000,
      "rowLimit": 10000
     },
     "inputWidgets": {},
     "nuid": "dc2a3879-d4ea-4c3b-99ce-32a42e9ded87",
     "showTitle": false,
     "tableResultSettingsMap": {},
     "title": ""
    }
   },
   "outputs": [
    {
     "output_type": "stream",
     "name": "stdout",
     "output_type": "stream",
     "text": [
      "Correlation between SHOT_CAT and GP: 0.004504726555428531\nCorrelation between SHOT_CAT and MPG: 0.0038904644914066816\nCorrelation between SHOT_CAT and PPG: 0.012469068120573657\nCorrelation between SHOT_CAT and TS%: 0.10006585888179964\nCorrelation between SHOT_CAT and eFG%: 0.1014264830366379\nCorrelation between SHOT_CAT and 2P%: 0.10155613503737715\nCorrelation between SHOT_CAT and 3P%: -0.03608595115539505\nCorrelation between SHOT_CAT and ORTG: 0.09365930175209722\nCorrelation between SHOT_CAT and oPPG: 0.0005129161040966958\nCorrelation between SHOT_CAT and dEFF: 0.00014456490563984854\n"
     ]
    }
   ],
   "source": [
    "numerical_cols = ['GP', 'MPG', 'PPG', 'TS%', 'eFG%', '2P%', '3P%', 'ORTG', 'oPPG', 'dEFF']\n",
    "\n",
    "for col in numerical_cols:\n",
    "    correlation = final_master_filter.stat.corr(\"SHOT_CAT\", col)\n",
    "    print(f\"Correlation between SHOT_CAT and {col}: {correlation}\")"
   ]
  },
  {
   "cell_type": "code",
   "execution_count": 0,
   "metadata": {
    "application/vnd.databricks.v1+cell": {
     "cellMetadata": {
      "byteLimit": 2048000,
      "rowLimit": 10000
     },
     "inputWidgets": {},
     "nuid": "0c65a544-b7fd-42f1-b729-80fc1495014f",
     "showTitle": false,
     "tableResultSettingsMap": {},
     "title": ""
    }
   },
   "outputs": [
    {
     "output_type": "display_data",
     "data": {
      "image/png": "[encoded data removed]",
      "text/plain": [
       "<Figure size 1000x800 with 2 Axes>"
      ]
     },
     "metadata": {},
     "output_type": "display_data"
    }
   ],
   "source": [
    "from dython.nominal import associations\n",
    "\n",
    "master_pandas = final_master_filter.select(\"TEAM_ABBRV\", \"TEAM_DEF\", \"POSITION\", \"ACTION_TYPE\", \"SHOT_TYPE\", \"BASIC_ZONE\",\n",
    "                                           \"ZONE_NAME\", \"ZONE_RANGE\", \"SHOT_DISTANCE\", \"QUARTER\", \"SHOT_CAT\").toPandas()\n",
    "\n",
    "corr_matrix = associations(master_pandas,  figsize=(10, 8))"
   ]
  },
  {
   "cell_type": "code",
   "execution_count": 0,
   "metadata": {
    "application/vnd.databricks.v1+cell": {
     "cellMetadata": {
      "byteLimit": 2048000,
      "rowLimit": 10000
     },
     "inputWidgets": {},
     "nuid": "8cfd03f9-21c0-466d-8169-67a987e7e321",
     "showTitle": false,
     "tableResultSettingsMap": {},
     "title": ""
    }
   },
   "outputs": [
    {
     "output_type": "stream",
     "name": "stdout",
     "output_type": "stream",
     "text": [
      "POSITION       0.08\nACTION_TYPE    0.29\nSHOT_TYPE      0.18\nBASIC_ZONE     0.26\nZONE_NAME      0.17\nZONE_RANGE     0.22\nSHOT_CAT       1.00\nName: SHOT_CAT, dtype: float64\n"
     ]
    }
   ],
   "source": [
    "corrs = corr_matrix['corr'].round(2)\n",
    "shot_corrs = corrs[\"SHOT_CAT\"]\n",
    "high_shot_corrs = shot_corrs[shot_corrs > 0.07]\n",
    "print(high_shot_corrs)"
   ]
  }
 ],
 "metadata": {
  "application/vnd.databricks.v1+notebook": {
   "computePreferences": null,
   "dashboards": [],
   "environmentMetadata": {
    "base_environment": "",
    "environment_version": "2"
   },
   "inputWidgetPreferences": null,
   "language": "python",
   "notebookMetadata": {
    "pythonIndentUnit": 4
   },
   "notebookName": "swish_eda_export",
   "widgets": {}
  },
  "language_info": {
   "name": "python"
  }
 },
 "nbformat": 4,
 "nbformat_minor": 0
}